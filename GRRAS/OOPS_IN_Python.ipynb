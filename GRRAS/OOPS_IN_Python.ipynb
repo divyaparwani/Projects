{
 "cells": [
  {
   "cell_type": "markdown",
   "metadata": {},
   "source": [
    "<h1 style='color:#123456'>Object Oriented Programming in Python</h1>\n",
    "<h2 style='color:#133546'>Features of OPP's</h2>\n",
    "<ol style='color:#235632'>\n",
    "<li>Encapsulation</li>\n",
    "<li>Abstraction</li>\n",
    "<li>Data Hiding</li>\n",
    "<li>Dynamic Binding</li>\n",
    "<li>Polymorphism</li>\n",
    "<li>Overriding</li>    \n",
    "<li>Inheritance\n",
    "    <table style='color:#123456'>\n",
    "        <th style='color:red'>Inheritance</th>\n",
    "        <tr> \n",
    "            <td>Single Level</td>\n",
    "            <td>Multilevel</td>\n",
    "            <td>hierarchal</td>\n",
    "            <td>Multiple</td>\n",
    "            <td>Hybrid</td>\n",
    "        </tr>\n",
    "    </table>\n",
    "</li>\n",
    "<li>Class</li>\n",
    "<li>Object</li>    \n",
    "</ol>"
   ]
  },
  {
   "cell_type": "code",
   "execution_count": 3,
   "metadata": {},
   "outputs": [
    {
     "name": "stdout",
     "output_type": "stream",
     "text": [
      "['__add__', '__class__', '__contains__', '__delattr__', '__delitem__', '__dir__', '__doc__', '__eq__', '__format__', '__ge__', '__getattribute__', '__getitem__', '__gt__', '__hash__', '__iadd__', '__imul__', '__init__', '__init_subclass__', '__iter__', '__le__', '__len__', '__lt__', '__mul__', '__ne__', '__new__', '__reduce__', '__reduce_ex__', '__repr__', '__reversed__', '__rmul__', '__setattr__', '__setitem__', '__sizeof__', '__str__', '__subclasshook__', 'append', 'clear', 'copy', 'count', 'extend', 'index', 'insert', 'pop', 'remove', 'reverse', 'sort']\n"
     ]
    }
   ],
   "source": [
    "print(dir(list))"
   ]
  },
  {
   "cell_type": "code",
   "execution_count": 6,
   "metadata": {},
   "outputs": [
    {
     "name": "stdout",
     "output_type": "stream",
     "text": [
      "L.copy() -> list -- a shallow copy of L\n"
     ]
    }
   ],
   "source": [
    "print(list.copy.__doc__)"
   ]
  },
  {
   "cell_type": "code",
   "execution_count": 13,
   "metadata": {},
   "outputs": [],
   "source": [
    "class Fun:\n",
    "    x = 5 #public\n",
    "    _y = 'hello' #protect\n",
    "    __z = 'something' #private\n",
    "    def hello(self):\n",
    "        print(\"hello world\")\n",
    "    #data hiding"
   ]
  },
  {
   "cell_type": "code",
   "execution_count": 14,
   "metadata": {},
   "outputs": [],
   "source": [
    "a = Fun()"
   ]
  },
  {
   "cell_type": "code",
   "execution_count": 16,
   "metadata": {},
   "outputs": [
    {
     "name": "stdout",
     "output_type": "stream",
     "text": [
      "['_Fun__z', '__class__', '__delattr__', '__dict__', '__dir__', '__doc__', '__eq__', '__format__', '__ge__', '__getattribute__', '__gt__', '__hash__', '__init__', '__init_subclass__', '__le__', '__lt__', '__module__', '__ne__', '__new__', '__reduce__', '__reduce_ex__', '__repr__', '__setattr__', '__sizeof__', '__str__', '__subclasshook__', '__weakref__', '_y', 'hello', 'x']\n"
     ]
    }
   ],
   "source": [
    "print(dir(a))"
   ]
  },
  {
   "cell_type": "code",
   "execution_count": 11,
   "metadata": {},
   "outputs": [
    {
     "name": "stdout",
     "output_type": "stream",
     "text": [
      "5\n",
      "hello\n"
     ]
    },
    {
     "ename": "AttributeError",
     "evalue": "'Fun' object has no attribute '__z'",
     "output_type": "error",
     "traceback": [
      "\u001b[1;31m------------------------------------------------------------\u001b[0m",
      "\u001b[1;31mAttributeError\u001b[0m             Traceback (most recent call last)",
      "\u001b[1;32m<ipython-input-11-287ff4b68c13>\u001b[0m in \u001b[0;36m<module>\u001b[1;34m()\u001b[0m\n\u001b[0;32m      1\u001b[0m \u001b[0mprint\u001b[0m\u001b[1;33m(\u001b[0m\u001b[0ma\u001b[0m\u001b[1;33m.\u001b[0m\u001b[0mx\u001b[0m\u001b[1;33m)\u001b[0m\u001b[1;33m\u001b[0m\u001b[0m\n\u001b[0;32m      2\u001b[0m \u001b[0mprint\u001b[0m\u001b[1;33m(\u001b[0m\u001b[0ma\u001b[0m\u001b[1;33m.\u001b[0m\u001b[0m_y\u001b[0m\u001b[1;33m)\u001b[0m\u001b[1;33m\u001b[0m\u001b[0m\n\u001b[1;32m----> 3\u001b[1;33m \u001b[0mprint\u001b[0m\u001b[1;33m(\u001b[0m\u001b[0ma\u001b[0m\u001b[1;33m.\u001b[0m\u001b[0m__z\u001b[0m\u001b[1;33m)\u001b[0m\u001b[1;33m\u001b[0m\u001b[0m\n\u001b[0m",
      "\u001b[1;31mAttributeError\u001b[0m: 'Fun' object has no attribute '__z'"
     ]
    }
   ],
   "source": [
    "print(a.x)\n",
    "print(a._y)\n",
    "print(a.__z)"
   ]
  },
  {
   "cell_type": "code",
   "execution_count": 12,
   "metadata": {},
   "outputs": [
    {
     "name": "stdout",
     "output_type": "stream",
     "text": [
      "5\n",
      "hello\n"
     ]
    },
    {
     "ename": "AttributeError",
     "evalue": "type object 'Fun' has no attribute '__z'",
     "output_type": "error",
     "traceback": [
      "\u001b[1;31m------------------------------------------------------------\u001b[0m",
      "\u001b[1;31mAttributeError\u001b[0m             Traceback (most recent call last)",
      "\u001b[1;32m<ipython-input-12-bfbfd3ffd8a1>\u001b[0m in \u001b[0;36m<module>\u001b[1;34m()\u001b[0m\n\u001b[0;32m      1\u001b[0m \u001b[0mprint\u001b[0m\u001b[1;33m(\u001b[0m\u001b[0mFun\u001b[0m\u001b[1;33m.\u001b[0m\u001b[0mx\u001b[0m\u001b[1;33m)\u001b[0m\u001b[1;33m\u001b[0m\u001b[0m\n\u001b[0;32m      2\u001b[0m \u001b[0mprint\u001b[0m\u001b[1;33m(\u001b[0m\u001b[0mFun\u001b[0m\u001b[1;33m.\u001b[0m\u001b[0m_y\u001b[0m\u001b[1;33m)\u001b[0m\u001b[1;33m\u001b[0m\u001b[0m\n\u001b[1;32m----> 3\u001b[1;33m \u001b[0mprint\u001b[0m\u001b[1;33m(\u001b[0m\u001b[0mFun\u001b[0m\u001b[1;33m.\u001b[0m\u001b[0m__z\u001b[0m\u001b[1;33m)\u001b[0m\u001b[1;33m\u001b[0m\u001b[0m\n\u001b[0m",
      "\u001b[1;31mAttributeError\u001b[0m: type object 'Fun' has no attribute '__z'"
     ]
    }
   ],
   "source": [
    "print(Fun.x)\n",
    "print(Fun._y)\n",
    "print(Fun.__z)"
   ]
  },
  {
   "cell_type": "code",
   "execution_count": 17,
   "metadata": {},
   "outputs": [],
   "source": [
    "def hello(x):\n",
    "    print(\"x\",x)\n",
    "def hello(x,y):\n",
    "    print(\"x\",x,'\\ny',y)"
   ]
  },
  {
   "cell_type": "code",
   "execution_count": 19,
   "metadata": {},
   "outputs": [
    {
     "name": "stdout",
     "output_type": "stream",
     "text": [
      "x 6 \n",
      "y 6\n"
     ]
    }
   ],
   "source": [
    "hello(6,6)"
   ]
  },
  {
   "cell_type": "code",
   "execution_count": 20,
   "metadata": {},
   "outputs": [],
   "source": [
    "class A: #grand parent\n",
    "    def hello(self,):\n",
    "        print(\"Hello World i am from A\")"
   ]
  },
  {
   "cell_type": "code",
   "execution_count": 24,
   "metadata": {},
   "outputs": [],
   "source": [
    "class B(A): #single level inheritance  # parent\n",
    "    def bye(self):\n",
    "        print(\"bye bye world from B\")"
   ]
  },
  {
   "cell_type": "code",
   "execution_count": 30,
   "metadata": {},
   "outputs": [],
   "source": [
    "class C(B):\n",
    "    def hihi(self):\n",
    "        print(\"HI HI from child\")\n",
    "    def hello(self):\n",
    "        print(\"Function is overrided from child\")"
   ]
  },
  {
   "cell_type": "code",
   "execution_count": 31,
   "metadata": {},
   "outputs": [
    {
     "name": "stdout",
     "output_type": "stream",
     "text": [
      "Function is overrided from child\n",
      "bye bye world from B\n",
      "HI HI from child\n"
     ]
    }
   ],
   "source": [
    "c = C()\n",
    "c.hello()\n",
    "c.bye()\n",
    "c.hihi()"
   ]
  },
  {
   "cell_type": "code",
   "execution_count": 38,
   "metadata": {},
   "outputs": [],
   "source": [
    "class p1:\n",
    "    def hello(self):\n",
    "        print(\"Hello world\")\n",
    "class c1(p1):\n",
    "    def hi(self):\n",
    "        print(\"Hi world from c1\")\n",
    "class c2(p1):\n",
    "    def hi(self):\n",
    "        print(\"Hi world from c2\")\n",
    "c1o = c1()\n",
    "c2o = c2()"
   ]
  },
  {
   "cell_type": "code",
   "execution_count": 39,
   "metadata": {},
   "outputs": [
    {
     "name": "stdout",
     "output_type": "stream",
     "text": [
      "Hello world\n",
      "Hi world from c1\n",
      "Hello world\n",
      "Hi world from c2\n"
     ]
    }
   ],
   "source": [
    "c1o.hello()\n",
    "c1o.hi()\n",
    "c2o.hello()\n",
    "c2o.hi()"
   ]
  },
  {
   "cell_type": "code",
   "execution_count": 40,
   "metadata": {},
   "outputs": [
    {
     "name": "stdout",
     "output_type": "stream",
     "text": [
      "The Zen of Python, by Tim Peters\n",
      "\n",
      "Beautiful is better than ugly.\n",
      "Explicit is better than implicit.\n",
      "Simple is better than complex.\n",
      "Complex is better than complicated.\n",
      "Flat is better than nested.\n",
      "Sparse is better than dense.\n",
      "Readability counts.\n",
      "Special cases aren't special enough to break the rules.\n",
      "Although practicality beats purity.\n",
      "Errors should never pass silently.\n",
      "Unless explicitly silenced.\n",
      "In the face of ambiguity, refuse the temptation to guess.\n",
      "There should be one-- and preferably only one --obvious way to do it.\n",
      "Although that way may not be obvious at first unless you're Dutch.\n",
      "Now is better than never.\n",
      "Although never is often better than *right* now.\n",
      "If the implementation is hard to explain, it's a bad idea.\n",
      "If the implementation is easy to explain, it may be a good idea.\n",
      "Namespaces are one honking great idea -- let's do more of those!\n"
     ]
    }
   ],
   "source": [
    "import this"
   ]
  },
  {
   "cell_type": "code",
   "execution_count": 42,
   "metadata": {},
   "outputs": [],
   "source": [
    "#for multiple inheritance support python use MRO -> method resolution order\n",
    "#first go in depth the go left to right"
   ]
  },
  {
   "cell_type": "code",
   "execution_count": 48,
   "metadata": {},
   "outputs": [],
   "source": [
    "class p1:\n",
    "    def hello(self):\n",
    "        print(\"Hello World by p1\")\n",
    "class p2 : \n",
    "    def hello(self):\n",
    "        print(\"Hi World by p2\")\n",
    "class c(p2,p1):\n",
    "    pass"
   ]
  },
  {
   "cell_type": "code",
   "execution_count": 49,
   "metadata": {},
   "outputs": [],
   "source": [
    "one = c()"
   ]
  },
  {
   "cell_type": "code",
   "execution_count": 50,
   "metadata": {},
   "outputs": [
    {
     "name": "stdout",
     "output_type": "stream",
     "text": [
      "Hi World by p2\n"
     ]
    }
   ],
   "source": [
    "one.hello()"
   ]
  },
  {
   "cell_type": "code",
   "execution_count": 64,
   "metadata": {},
   "outputs": [],
   "source": [
    "class g :\n",
    "    def second(self):\n",
    "        print(\"Old is gold\")\n",
    "class p1(g):\n",
    "    def second(self):\n",
    "        print(\"something\")\n",
    "class p2(g):\n",
    "    def second(self):\n",
    "        print(\"it's good\")\n",
    "class p3(p2,p1):\n",
    "    pass\n",
    "class c(p3):\n",
    "    pass"
   ]
  },
  {
   "cell_type": "code",
   "execution_count": 70,
   "metadata": {},
   "outputs": [
    {
     "name": "stdout",
     "output_type": "stream",
     "text": [
      "it's good\n",
      "['__class__', '__delattr__', '__dict__', '__dir__', '__doc__', '__eq__', '__format__', '__ge__', '__getattribute__', '__gt__', '__hash__', '__init__', '__init_subclass__', '__le__', '__lt__', '__module__', '__ne__', '__new__', '__reduce__', '__reduce_ex__', '__repr__', '__setattr__', '__sizeof__', '__str__', '__subclasshook__', '__weakref__', 'second']\n"
     ]
    }
   ],
   "source": [
    "a = c()\n",
    "a.second()\n",
    "print(dir(a))\n",
    "#instanctition"
   ]
  },
  {
   "cell_type": "markdown",
   "metadata": {},
   "source": [
    "<h1 style='color:#123456'>Object Oriented Programming in Python</h1>\n",
    "<h2 style='color:#133546'>Features of OPP's</h2>\n",
    "<ol style='color:#235632'>\n",
    "<li>Encapsulation</li>\n",
    "<li>Abstraction</li>\n",
    "<li>Data Hiding</li>\n",
    "<li>Dynamic Binding</li>\n",
    "<li>Polymorphism</li>\n",
    "<li>Overriding</li>    \n",
    "<li>Inheritance\n",
    "    <table style='color:#123456'>\n",
    "        <th style='color:red'>Inheritance</th>\n",
    "        <tr> \n",
    "            <td>Single Level</td>\n",
    "            <td>Multilevel</td>\n",
    "            <td>hierarchal</td>\n",
    "            <td>Multiple</td>\n",
    "            <td>Hybrid</td>\n",
    "        </tr>\n",
    "    </table>\n",
    "</li>\n",
    "<li>Class</li>\n",
    "<li>Object</li>    \n",
    "</ol>"
   ]
  },
  {
   "cell_type": "code",
   "execution_count": 67,
   "metadata": {},
   "outputs": [],
   "source": [
    "def hello():\n",
    "    x = 5"
   ]
  },
  {
   "cell_type": "code",
   "execution_count": 68,
   "metadata": {},
   "outputs": [],
   "source": [
    "hello()"
   ]
  },
  {
   "cell_type": "code",
   "execution_count": 69,
   "metadata": {},
   "outputs": [
    {
     "ename": "NameError",
     "evalue": "name 'x' is not defined",
     "output_type": "error",
     "traceback": [
      "\u001b[1;31m------------------------------------------------------------\u001b[0m",
      "\u001b[1;31mNameError\u001b[0m                  Traceback (most recent call last)",
      "\u001b[1;32m<ipython-input-69-6fcf9dfbd479>\u001b[0m in \u001b[0;36m<module>\u001b[1;34m()\u001b[0m\n\u001b[1;32m----> 1\u001b[1;33m \u001b[0mx\u001b[0m\u001b[1;33m\u001b[0m\u001b[0m\n\u001b[0m",
      "\u001b[1;31mNameError\u001b[0m: name 'x' is not defined"
     ]
    }
   ],
   "source": [
    "x"
   ]
  },
  {
   "cell_type": "code",
   "execution_count": 129,
   "metadata": {},
   "outputs": [],
   "source": [
    "#constructor\n",
    "#destructor\n",
    "class Robot:\n",
    "    \"\"\"Robot is just fun class\n",
    "    to under stand basic concepts oops.\"\"\"\n",
    "    def __init__(self,n,a,s):\n",
    "        self.name = n\n",
    "        self.work = s\n",
    "        self.age = a\n",
    "    def __add__(self,other):\n",
    "        name = self.name + \"\\t\" + other.name\n",
    "        age  = str(self.age) + \"\\t\" + str(other.age)\n",
    "        work = self.work + \"\\t\" + other.work \n",
    "        return Robot(name,age,work)\n",
    "    def show(self):\n",
    "        print(\"\\n\\nName : \",self.name)\n",
    "        print(\"Work : \",self.work)\n",
    "        print(\"Age : \",self.age)\n",
    "        print(\"\\n\")\n",
    "    def update(self,**kwargs):\n",
    "        self.update(kwargs)\n",
    "    def __del__(self):\n",
    "        print(self.name , \"is deleted\")\n",
    "        del self.name\n",
    "        print(self.work, \"is deleted\")\n",
    "        del self.work\n",
    "        del self\n",
    "        print(\"object Destroyed sucessfully\")\n",
    "    def __len__(self):\n",
    "        return 12345\n",
    "    def __repr__(self):\n",
    "        return \"I am object of Robot Class\"\n",
    "        \n",
    "        "
   ]
  },
  {
   "cell_type": "code",
   "execution_count": 130,
   "metadata": {},
   "outputs": [],
   "source": [
    "a = Robot('Rajat',30,'linux and cloud')\n",
    "b = Robot('Ravi',32,'online trainer')\n",
    "c = Robot('Sachin',22,'Python and Data science')"
   ]
  },
  {
   "cell_type": "code",
   "execution_count": 131,
   "metadata": {},
   "outputs": [
    {
     "name": "stdout",
     "output_type": "stream",
     "text": [
      "Ravi\tSachin is deleted\n",
      "online trainer\tPython and Data science is deleted\n",
      "object Destroyed sucessfully\n",
      "Rajat\tRavi\tSachin is deleted\n",
      "linux and cloud\tonline trainer\tPython and Data science is deleted\n",
      "object Destroyed sucessfully\n"
     ]
    }
   ],
   "source": [
    "d = a + ( b + c )"
   ]
  },
  {
   "cell_type": "code",
   "execution_count": 132,
   "metadata": {},
   "outputs": [
    {
     "name": "stdout",
     "output_type": "stream",
     "text": [
      "\n",
      "\n",
      "Name :  Rajat\tRavi\tSachin\n",
      "Work :  linux and cloud\tonline trainer\tPython and Data science\n",
      "Age :  30\t32\t22\n",
      "\n",
      "\n"
     ]
    }
   ],
   "source": [
    "d.show()"
   ]
  },
  {
   "cell_type": "code",
   "execution_count": 133,
   "metadata": {},
   "outputs": [
    {
     "name": "stdout",
     "output_type": "stream",
     "text": [
      "I am object of Robot Class\n"
     ]
    }
   ],
   "source": [
    "print(d)"
   ]
  },
  {
   "cell_type": "code",
   "execution_count": 110,
   "metadata": {},
   "outputs": [
    {
     "name": "stdout",
     "output_type": "stream",
     "text": [
      "\n",
      "\n",
      "Name :  Rajat\n",
      "Work :  linux and cloud\n",
      "Age :  30\n",
      "\n",
      "\n",
      "\n",
      "\n",
      "Name :  Ravi\n",
      "Work :  online trainer\n",
      "Age :  32\n",
      "\n",
      "\n",
      "\n",
      "\n",
      "Name :  Sachin\n",
      "Work :  Python and Data science\n",
      "Age :  22\n",
      "\n",
      "\n"
     ]
    }
   ],
   "source": [
    "a.show()\n",
    "b.show()\n",
    "c.show()"
   ]
  },
  {
   "cell_type": "code",
   "execution_count": 111,
   "metadata": {},
   "outputs": [
    {
     "data": {
      "text/plain": [
       "12345"
      ]
     },
     "execution_count": 111,
     "metadata": {},
     "output_type": "execute_result"
    }
   ],
   "source": [
    "len(a)"
   ]
  },
  {
   "cell_type": "code",
   "execution_count": 75,
   "metadata": {},
   "outputs": [],
   "source": [
    "a.age = 30"
   ]
  },
  {
   "cell_type": "code",
   "execution_count": 115,
   "metadata": {},
   "outputs": [
    {
     "name": "stdout",
     "output_type": "stream",
     "text": [
      "Trainer1 :  Rajat \t Trainer2 :  Ravi\n",
      "Suject :  linux and cloud \t subject :  online trainer\n"
     ]
    }
   ],
   "source": [
    " a + b"
   ]
  },
  {
   "cell_type": "code",
   "execution_count": 117,
   "metadata": {},
   "outputs": [
    {
     "name": "stdout",
     "output_type": "stream",
     "text": [
      "Trainer1 :  Ravi \t Trainer2 :  Sachin\n",
      "Suject :  online trainer \t subject :  Python and Data science\n"
     ]
    },
    {
     "ename": "AttributeError",
     "evalue": "'NoneType' object has no attribute 'name'",
     "output_type": "error",
     "traceback": [
      "\u001b[1;31m------------------------------------------------------------\u001b[0m",
      "\u001b[1;31mAttributeError\u001b[0m             Traceback (most recent call last)",
      "\u001b[1;32m<ipython-input-117-bb47864559bb>\u001b[0m in \u001b[0;36m<module>\u001b[1;34m()\u001b[0m\n\u001b[1;32m----> 1\u001b[1;33m \u001b[0mz\u001b[0m \u001b[1;33m=\u001b[0m \u001b[0ma\u001b[0m \u001b[1;33m+\u001b[0m \u001b[1;33m(\u001b[0m\u001b[0mb\u001b[0m \u001b[1;33m+\u001b[0m \u001b[0mc\u001b[0m\u001b[1;33m)\u001b[0m\u001b[1;33m\u001b[0m\u001b[0m\n\u001b[0m",
      "\u001b[1;32m<ipython-input-113-8422d63a68a8>\u001b[0m in \u001b[0;36m__add__\u001b[1;34m(self, other)\u001b[0m\n\u001b[0;32m      9\u001b[0m         \u001b[0mself\u001b[0m\u001b[1;33m.\u001b[0m\u001b[0mage\u001b[0m \u001b[1;33m=\u001b[0m \u001b[0ma\u001b[0m\u001b[1;33m\u001b[0m\u001b[0m\n\u001b[0;32m     10\u001b[0m     \u001b[1;32mdef\u001b[0m \u001b[0m__add__\u001b[0m\u001b[1;33m(\u001b[0m\u001b[0mself\u001b[0m\u001b[1;33m,\u001b[0m\u001b[0mother\u001b[0m\u001b[1;33m)\u001b[0m\u001b[1;33m:\u001b[0m\u001b[1;33m\u001b[0m\u001b[0m\n\u001b[1;32m---> 11\u001b[1;33m         \u001b[0mprint\u001b[0m\u001b[1;33m(\u001b[0m\u001b[1;34m\"Trainer1 : \"\u001b[0m\u001b[1;33m,\u001b[0m\u001b[0mself\u001b[0m\u001b[1;33m.\u001b[0m\u001b[0mname\u001b[0m\u001b[1;33m,\u001b[0m\u001b[1;34m'\\t'\u001b[0m\u001b[1;33m,\u001b[0m\u001b[1;34m\"Trainer2 : \"\u001b[0m\u001b[1;33m,\u001b[0m\u001b[0mother\u001b[0m\u001b[1;33m.\u001b[0m\u001b[0mname\u001b[0m\u001b[1;33m)\u001b[0m\u001b[1;33m\u001b[0m\u001b[0m\n\u001b[0m\u001b[0;32m     12\u001b[0m         \u001b[0mprint\u001b[0m\u001b[1;33m(\u001b[0m\u001b[1;34m\"Suject : \"\u001b[0m\u001b[1;33m,\u001b[0m\u001b[0mself\u001b[0m\u001b[1;33m.\u001b[0m\u001b[0mwork\u001b[0m\u001b[1;33m,\u001b[0m\u001b[1;34m'\\t'\u001b[0m\u001b[1;33m,\u001b[0m\u001b[1;34m\"subject : \"\u001b[0m\u001b[1;33m,\u001b[0m\u001b[0mother\u001b[0m\u001b[1;33m.\u001b[0m\u001b[0mwork\u001b[0m\u001b[1;33m)\u001b[0m\u001b[1;33m\u001b[0m\u001b[0m\n\u001b[0;32m     13\u001b[0m     \u001b[1;32mdef\u001b[0m \u001b[0mshow\u001b[0m\u001b[1;33m(\u001b[0m\u001b[0mself\u001b[0m\u001b[1;33m)\u001b[0m\u001b[1;33m:\u001b[0m\u001b[1;33m\u001b[0m\u001b[0m\n",
      "\u001b[1;31mAttributeError\u001b[0m: 'NoneType' object has no attribute 'name'"
     ]
    }
   ],
   "source": [
    " z = a + (b + c)"
   ]
  },
  {
   "cell_type": "code",
   "execution_count": 77,
   "metadata": {},
   "outputs": [
    {
     "data": {
      "text/plain": [
       "30"
      ]
     },
     "execution_count": 77,
     "metadata": {},
     "output_type": "execute_result"
    }
   ],
   "source": [
    "a.age"
   ]
  },
  {
   "cell_type": "code",
   "execution_count": 78,
   "metadata": {},
   "outputs": [
    {
     "data": {
      "text/plain": [
       "50"
      ]
     },
     "execution_count": 78,
     "metadata": {},
     "output_type": "execute_result"
    }
   ],
   "source": [
    "b.age"
   ]
  },
  {
   "cell_type": "code",
   "execution_count": 79,
   "metadata": {},
   "outputs": [],
   "source": [
    "a.name = \"Rajat\"\n",
    "b.name = \"Ravi\""
   ]
  },
  {
   "cell_type": "code",
   "execution_count": 80,
   "metadata": {},
   "outputs": [
    {
     "name": "stdout",
     "output_type": "stream",
     "text": [
      "\n",
      "\n",
      "Name :  Rajat\n",
      "Work :  Institute\n",
      "\n",
      "\n",
      "\n",
      "\n",
      "Name :  Ravi\n",
      "Work :  Institute\n",
      "\n",
      "\n"
     ]
    }
   ],
   "source": [
    "a.show()\n",
    "b.show()"
   ]
  },
  {
   "cell_type": "code",
   "execution_count": 128,
   "metadata": {},
   "outputs": [
    {
     "name": "stdout",
     "output_type": "stream",
     "text": [
      "Rajat is deleted\n",
      "linux and cloud is deleted\n",
      "object Destroyed sucessfully\n",
      "Ravi is deleted\n",
      "online trainer is deleted\n",
      "object Destroyed sucessfully\n",
      "Sachin is deleted\n",
      "Python and Data science is deleted\n",
      "object Destroyed sucessfully\n"
     ]
    }
   ],
   "source": [
    "del a\n",
    "del b\n",
    "del c"
   ]
  },
  {
   "cell_type": "code",
   "execution_count": 88,
   "metadata": {},
   "outputs": [
    {
     "name": "stdout",
     "output_type": "stream",
     "text": [
      "Grras is deleted\n",
      "Institute is deleted\n",
      "object Destroyed sucessfully\n"
     ]
    }
   ],
   "source": []
  },
  {
   "cell_type": "code",
   "execution_count": null,
   "metadata": {},
   "outputs": [],
   "source": []
  }
 ],
 "metadata": {
  "kernelspec": {
   "display_name": "Python 3",
   "language": "python",
   "name": "python3"
  },
  "language_info": {
   "codemirror_mode": {
    "name": "ipython",
    "version": 3
   },
   "file_extension": ".py",
   "mimetype": "text/x-python",
   "name": "python",
   "nbconvert_exporter": "python",
   "pygments_lexer": "ipython3",
   "version": "3.6.5"
  }
 },
 "nbformat": 4,
 "nbformat_minor": 2
}
