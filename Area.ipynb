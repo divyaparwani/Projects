{
 "cells": [
  {
   "cell_type": "code",
   "execution_count": 54,
   "metadata": {},
   "outputs": [],
   "source": [
    " from math import pi,sqrt\n",
    "class Area:\n",
    "   \n",
    "    def __init__(self,one,two=None,three=None,*args):\n",
    "        self.one=one\n",
    "        self.two=two\n",
    "        self.three=three\n",
    "        self.extra=args\n",
    "       \n",
    "    def area(self):\n",
    "        if self.two==None and self.three==None:\n",
    "            print(\"You're dealing with circle\")\n",
    "            print(\"Area of circle is: \",pi*self.one*self.one)\n",
    "            print(\"Circumference of circle is:\",2*pi*self.one)\n",
    "            \n",
    "        elif self.one and self.two and self.three==None:\n",
    "            print(\"You're dealing with rectangle\")\n",
    "            print(\"Area of rectange is: \",self.two*self.one)\n",
    "            print(\"Circumference of rectangle is:\",2*(self.one+self.two))\n",
    "            \n",
    "        elif self.one and self.two and self.three and self.extra==None:\n",
    "            print(\"You're dealing with Triangle\")\n",
    "            s=self.one+self.two+self.three/2\n",
    "            a=s*(s-self.one)*(s-self.two)*(s-self.three)\n",
    "            ar=sqrt(a)\n",
    "            print(\"Area of triangle is:\",ar)\n",
    "            print(\"Circumference of rectangle is:\",self.one+self.two+self.three)\n",
    "        \n",
    "        elif self.extra:\n",
    "            print(\"Enter a valid argument\")\n",
    "                  "
   ]
  },
  {
   "cell_type": "code",
   "execution_count": 61,
   "metadata": {},
   "outputs": [
    {
     "name": "stdout",
     "output_type": "stream",
     "text": [
      "You're dealing with rectangle\n",
      "Area of rectange is:  70\n",
      "Circumference of rectangle is: 34\n"
     ]
    }
   ],
   "source": [
    "a1=Area(7,10)\n",
    "a1.area()"
   ]
  },
  {
   "cell_type": "markdown",
   "metadata": {},
   "source": []
  },
  {
   "cell_type": "code",
   "execution_count": null,
   "metadata": {},
   "outputs": [],
   "source": []
  }
 ],
 "metadata": {
  "kernelspec": {
   "display_name": "Python 3",
   "language": "python",
   "name": "python3"
  },
  "language_info": {
   "codemirror_mode": {
    "name": "ipython",
    "version": 3
   },
   "file_extension": ".py",
   "mimetype": "text/x-python",
   "name": "python",
   "nbconvert_exporter": "python",
   "pygments_lexer": "ipython3",
   "version": "3.6.4"
  }
 },
 "nbformat": 4,
 "nbformat_minor": 2
}
