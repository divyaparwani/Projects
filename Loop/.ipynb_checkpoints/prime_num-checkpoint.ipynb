{
 "cells": [
  {
   "cell_type": "code",
   "execution_count": 11,
   "metadata": {},
   "outputs": [
    {
     "name": "stdout",
     "output_type": "stream",
     "text": [
      "Enter lower range: 2\n",
      "Enter upper range: 100\n",
      "2,3,5,7,11,13,17,19,23,29,31,37,41,43,47,53,59,61,67,71,73,79,83,89,97,"
     ]
    }
   ],
   "source": [
    "num1=int(input(\"Enter lower range: \"))\n",
    "num2=int(input(\"Enter upper range: \"))\n",
    "from math import sqrt\n",
    "for var in range(num1,num2+1):\n",
    "    chno=round(sqrt(var))\n",
    "    counter=2\n",
    "    while counter<=chno:\n",
    "        if var%counter==0:\n",
    "            #print(\"Not a prime no\")\n",
    "            break\n",
    "        counter+=1    \n",
    "\n",
    "    else:\n",
    "        print(var,end=\",\")\n"
   ]
  },
  {
   "cell_type": "code",
   "execution_count": 9,
   "metadata": {},
   "outputs": [
    {
     "name": "stdout",
     "output_type": "stream",
     "text": [
      "Enter a no: 5\n",
      "Prime no.\n"
     ]
    }
   ],
   "source": [
    "num=int(input(\"Enter a no: \"))\n",
    "from math import sqrt\n",
    "chno=round(sqrt(num))\n",
    "counter=2\n",
    "while counter<=chno:\n",
    "    if num%counter==0:\n",
    "        print(\"Not a prime no\")\n",
    "        break\n",
    "    counter+=1    \n",
    "        \n",
    "else:\n",
    "    print(\"Prime no.\")\n",
    "    "
   ]
  },
  {
   "cell_type": "code",
   "execution_count": null,
   "metadata": {},
   "outputs": [],
   "source": []
  }
 ],
 "metadata": {
  "kernelspec": {
   "display_name": "Python 3",
   "language": "python",
   "name": "python3"
  },
  "language_info": {
   "codemirror_mode": {
    "name": "ipython",
    "version": 3
   },
   "file_extension": ".py",
   "mimetype": "text/x-python",
   "name": "python",
   "nbconvert_exporter": "python",
   "pygments_lexer": "ipython3",
   "version": "3.6.4"
  }
 },
 "nbformat": 4,
 "nbformat_minor": 2
}
