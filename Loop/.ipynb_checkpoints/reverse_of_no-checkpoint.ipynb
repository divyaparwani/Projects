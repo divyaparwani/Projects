{
 "cells": [
  {
   "cell_type": "code",
   "execution_count": 2,
   "metadata": {},
   "outputs": [
    {
     "name": "stdout",
     "output_type": "stream",
     "text": [
      "Enter no :123\n",
      "321\n"
     ]
    }
   ],
   "source": [
    "num=int(input(\"Enter no :\"))\n",
    "c=0\n",
    "temp=num\n",
    "tem=num\n",
    "sum1=0\n",
    "while temp!=0:\n",
    "    temp=temp//10\n",
    "    c=c+1\n",
    "while tem!=0:\n",
    "    for var in range(c-1,-1,-1):\n",
    "        rem=tem%10\n",
    "        sum1=sum1+(rem*pow(10,var))\n",
    "        tem=tem//10    \n",
    "print(sum1)     "
   ]
  },
  {
   "cell_type": "code",
   "execution_count": 7,
   "metadata": {},
   "outputs": [
    {
     "name": "stdout",
     "output_type": "stream",
     "text": [
      "Enter no :1221\n",
      "Its a palendrome\n"
     ]
    }
   ],
   "source": [
    "num=int(input(\"Enter no :\"))\n",
    "c=0\n",
    "temp=num\n",
    "tem=num\n",
    "sum1=0\n",
    "while temp!=0:\n",
    "    temp=temp//10\n",
    "    c=c+1\n",
    "while tem!=0:\n",
    "    for var in range(c-1,-1,-1):\n",
    "        rem=tem%10\n",
    "        sum1=sum1+(rem*pow(10,var))\n",
    "        tem=tem//10    \n",
    "if sum1==num:\n",
    "    print(\"Its a palendrome\")\n",
    "else:\n",
    "    print(\"Its not a palendrome\")"
   ]
  },
  {
   "cell_type": "code",
   "execution_count": 4,
   "metadata": {},
   "outputs": [
    {
     "name": "stdout",
     "output_type": "stream",
     "text": [
      "Enter no :370\n",
      "370\n",
      "Its an armstrong\n"
     ]
    }
   ],
   "source": [
    "num=int(input(\"Enter no :\"))\n",
    "c=0\n",
    "temp=num\n",
    "tem=num\n",
    "sum1=0\n",
    "while temp!=0:\n",
    "    temp=temp//10\n",
    "    c=c+1\n",
    "while tem!=0:\n",
    "    #for var in range(c-1,-1,-1):\n",
    "        rem=tem%10\n",
    "        sum1=sum1+pow(rem,c)\n",
    "        tem=tem//10   \n",
    "print(sum1)        \n",
    "if sum1==num:\n",
    "    print(\"Its an armstrong\")\n",
    "else:\n",
    "    print(\"Its not a armstrong\")"
   ]
  },
  {
   "cell_type": "code",
   "execution_count": null,
   "metadata": {},
   "outputs": [],
   "source": []
  }
 ],
 "metadata": {
  "kernelspec": {
   "display_name": "Python 3",
   "language": "python",
   "name": "python3"
  },
  "language_info": {
   "codemirror_mode": {
    "name": "ipython",
    "version": 3
   },
   "file_extension": ".py",
   "mimetype": "text/x-python",
   "name": "python",
   "nbconvert_exporter": "python",
   "pygments_lexer": "ipython3",
   "version": "3.6.4"
  }
 },
 "nbformat": 4,
 "nbformat_minor": 2
}
