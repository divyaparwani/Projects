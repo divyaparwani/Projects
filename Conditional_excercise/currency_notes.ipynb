{
 "cells": [
  {
   "cell_type": "code",
   "execution_count": 5,
   "metadata": {},
   "outputs": [
    {
     "name": "stdout",
     "output_type": "stream",
     "text": [
      "Enter an amount:1760\n",
      "Notes of 500 : 3\n",
      "Notes of 100 : 2\n",
      "Notes of 50 : 1\n",
      "Notes of 10 : 1\n"
     ]
    }
   ],
   "source": [
    "amt=int(input(\"Enter an amount:\"))\n",
    "temp=0\n",
    "rem=0\n",
    "temp=amt//500\n",
    "rem=amt%500\n",
    "print(\"Notes of 500 :\",temp)\n",
    "temp=rem\n",
    "tempa=temp\n",
    "temp=temp//100\n",
    "rem=tempa%100\n",
    "print(\"Notes of 100 :\",temp)\n",
    "temp=rem\n",
    "tempa=temp\n",
    "temp=temp//50\n",
    "rem=tempa%50\n",
    "print(\"Notes of 50 :\",temp)\n",
    "temp=rem\n",
    "tempa=temp\n",
    "temp=temp//10\n",
    "rem=tempa%10\n",
    "print(\"Notes of 10 :\",temp)\n"
   ]
  },
  {
   "cell_type": "code",
   "execution_count": null,
   "metadata": {},
   "outputs": [],
   "source": []
  }
 ],
 "metadata": {
  "kernelspec": {
   "display_name": "Python 3",
   "language": "python",
   "name": "python3"
  },
  "language_info": {
   "codemirror_mode": {
    "name": "ipython",
    "version": 3
   },
   "file_extension": ".py",
   "mimetype": "text/x-python",
   "name": "python",
   "nbconvert_exporter": "python",
   "pygments_lexer": "ipython3",
   "version": "3.6.4"
  }
 },
 "nbformat": 4,
 "nbformat_minor": 2
}
