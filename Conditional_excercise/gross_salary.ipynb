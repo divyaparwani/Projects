{
 "cells": [
  {
   "cell_type": "code",
   "execution_count": 4,
   "metadata": {},
   "outputs": [
    {
     "name": "stdout",
     "output_type": "stream",
     "text": [
      "Enter basic salary: 98200\n",
      "Gross salary:  220950.0\n"
     ]
    }
   ],
   "source": [
    "bs=int(input(\"Enter basic salary: \"))\n",
    "if bs<= 10000:\n",
    "    hra=20/100*bs\n",
    "    da=80/100*bs\n",
    "    gs=hra+da+bs\n",
    "    print(\"Gross salary: \",gs)\n",
    "if bs<= 20000:\n",
    "    hra=25/100*bs\n",
    "    da=90/100*bs\n",
    "    gs=hra+da+bs\n",
    "    print(\"Gross salary: \",gs)\n",
    "if bs> 20000:\n",
    "    hra=30/100*bs\n",
    "    da=95/100*bs\n",
    "    gs=hra+da+bs\n",
    "    print(\"Gross salary: \",gs)    \n",
    "    \n",
    "#Basic Salary <= 10000 : HRA = 20%, DA = 80%\n",
    "#Basic Salary <= 20000 : HRA = 25%, DA = 90%\n",
    "#Basic Salary > 20000 : HRA = 30%, DA = 95%"
   ]
  },
  {
   "cell_type": "code",
   "execution_count": null,
   "metadata": {},
   "outputs": [],
   "source": []
  }
 ],
 "metadata": {
  "kernelspec": {
   "display_name": "Python 3",
   "language": "python",
   "name": "python3"
  },
  "language_info": {
   "codemirror_mode": {
    "name": "ipython",
    "version": 3
   },
   "file_extension": ".py",
   "mimetype": "text/x-python",
   "name": "python",
   "nbconvert_exporter": "python",
   "pygments_lexer": "ipython3",
   "version": "3.6.4"
  }
 },
 "nbformat": 4,
 "nbformat_minor": 2
}
