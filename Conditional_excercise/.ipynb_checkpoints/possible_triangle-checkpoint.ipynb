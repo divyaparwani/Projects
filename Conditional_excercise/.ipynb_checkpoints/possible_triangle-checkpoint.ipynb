{
 "cells": [
  {
   "cell_type": "code",
   "execution_count": 5,
   "metadata": {},
   "outputs": [
    {
     "name": "stdout",
     "output_type": "stream",
     "text": [
      "Enter side 1 :3\n",
      "Enter side 2 :4\n",
      "Enter side 3 :5\n",
      "Triangle is possible\n"
     ]
    }
   ],
   "source": [
    "s1=int(input(\"Enter side 1 :\"))\n",
    "s2=int(input(\"Enter side 2 :\"))\n",
    "s3=int(input(\"Enter side 3 :\"))\n",
    "if (s1+s2>s3) and (s2+s3>s1) and (s1+s3>s2):\n",
    "    print(\"Triangle is possible\")\n",
    "else:\n",
    "    print(\"Triangle isn't possible\")\n",
    "    \n",
    "    "
   ]
  },
  {
   "cell_type": "code",
   "execution_count": null,
   "metadata": {},
   "outputs": [],
   "source": []
  },
  {
   "cell_type": "code",
   "execution_count": null,
   "metadata": {},
   "outputs": [],
   "source": []
  }
 ],
 "metadata": {
  "kernelspec": {
   "display_name": "Python 3",
   "language": "python",
   "name": "python3"
  },
  "language_info": {
   "codemirror_mode": {
    "name": "ipython",
    "version": 3
   },
   "file_extension": ".py",
   "mimetype": "text/x-python",
   "name": "python",
   "nbconvert_exporter": "python",
   "pygments_lexer": "ipython3",
   "version": "3.6.4"
  }
 },
 "nbformat": 4,
 "nbformat_minor": 2
}
