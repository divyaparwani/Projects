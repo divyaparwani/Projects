{
 "cells": [
  {
   "cell_type": "code",
   "execution_count": 3,
   "metadata": {},
   "outputs": [
    {
     "name": "stdout",
     "output_type": "stream",
     "text": [
      "Enter cost price:100\n",
      "Enter sell price:21\n",
      "loss is :Rs  79\n"
     ]
    }
   ],
   "source": [
    "costp=int(input(\"Enter cost price:\"))\n",
    "sellp=int(input(\"Enter sell price:\"))\n",
    "if costp<sellp:\n",
    "    profit=sellp-costp\n",
    "    print(\"profit is : Rs\",profit)\n",
    "elif costp>sellp:\n",
    "    loss=costp-sellp\n",
    "    print(\"loss is :Rs \",loss)\n",
    "else:\n",
    "    print(\"No profit, no loss\")"
   ]
  },
  {
   "cell_type": "code",
   "execution_count": null,
   "metadata": {},
   "outputs": [],
   "source": []
  }
 ],
 "metadata": {
  "kernelspec": {
   "display_name": "Python 3",
   "language": "python",
   "name": "python3"
  },
  "language_info": {
   "codemirror_mode": {
    "name": "ipython",
    "version": 3
   },
   "file_extension": ".py",
   "mimetype": "text/x-python",
   "name": "python",
   "nbconvert_exporter": "python",
   "pygments_lexer": "ipython3",
   "version": "3.6.4"
  }
 },
 "nbformat": 4,
 "nbformat_minor": 2
}
