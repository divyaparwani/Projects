{
 "cells": [
  {
   "cell_type": "code",
   "execution_count": 1,
   "metadata": {},
   "outputs": [
    {
     "name": "stdout",
     "output_type": "stream",
     "text": [
      "Enter units: 900\n",
      "Bill is Rs: 3142.5\n"
     ]
    }
   ],
   "source": [
    "unit=int(input(\"Enter units: \"))\n",
    "ff=unit*0.5\n",
    "nh=(unit-50)*0.75\n",
    "nnh=(unit-150)*1.20\n",
    "abv=(unit-250)*1.50\n",
    "sur=20/100*unit\n",
    "if unit<=50:\n",
    "    amt=sur+ff\n",
    "    print(\"Bill is Rs:\",amt)\n",
    "elif unit<=150:\n",
    "    amt=sur+ff+nh\n",
    "    print(\"Bill is Rs:\",amt)\n",
    "elif unit<=250:\n",
    "    amt=sur+ff+nh+nnh\n",
    "    print(\"Bill is Rs:\",amt) \n",
    "elif unit>250:\n",
    "    amt=sur+ff+nh+nnh+abv\n",
    "    print(\"Bill is Rs:\",amt)"
   ]
  },
  {
   "cell_type": "code",
   "execution_count": null,
   "metadata": {},
   "outputs": [],
   "source": []
  }
 ],
 "metadata": {
  "kernelspec": {
   "display_name": "Python 3",
   "language": "python",
   "name": "python3"
  },
  "language_info": {
   "codemirror_mode": {
    "name": "ipython",
    "version": 3
   },
   "file_extension": ".py",
   "mimetype": "text/x-python",
   "name": "python",
   "nbconvert_exporter": "python",
   "pygments_lexer": "ipython3",
   "version": "3.6.4"
  }
 },
 "nbformat": 4,
 "nbformat_minor": 2
}
