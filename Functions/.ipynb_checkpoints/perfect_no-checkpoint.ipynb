{
 "cells": [
  {
   "cell_type": "code",
   "execution_count": 26,
   "metadata": {},
   "outputs": [
    {
     "name": "stdout",
     "output_type": "stream",
     "text": [
      "Enter a no: 8128\n",
      "[1, 2, 4, 8, 16, 32, 64, 127, 254, 508, 1016, 2032, 4064]\n",
      "8128 is a perfect no\n"
     ]
    }
   ],
   "source": [
    "from math import sqrt\n",
    "num=int(input(\"Enter a no: \"))\n",
    "sqno=num//2\n",
    "list1=[]\n",
    "for var in range(1,sqno+1):\n",
    "    if num%var==0:\n",
    "        list1.append(var)\n",
    "    else:\n",
    "        continue\n",
    "print(list1) \n",
    "if sum(list1)==num:\n",
    "    sum2=(sum(list1)+num)/2\n",
    "    if sum2==num:\n",
    "        print(num,\"is a perfect no\")\n",
    "else:\n",
    "    print(num,\"is not a perfect no\")\n",
    "        "
   ]
  },
  {
   "cell_type": "code",
   "execution_count": 27,
   "metadata": {},
   "outputs": [
    {
     "name": "stdout",
     "output_type": "stream",
     "text": [
      "Enter a no: 28\n",
      "[1, 2, 4, 7, 14]\n",
      "28 is a perfect no\n"
     ]
    }
   ],
   "source": [
    "from math import sqrt\n",
    "def perfect(num):\n",
    "    sqno=num//2\n",
    "    list1=[]\n",
    "    for var in range(1,sqno+1):\n",
    "        if num%var==0:\n",
    "            list1.append(var)\n",
    "        else:\n",
    "            continue\n",
    "    print(list1) \n",
    "    if sum(list1)==num:\n",
    "        sum2=(sum(list1)+num)/2\n",
    "        if sum2==num:\n",
    "            print(num,\"is a perfect no\")\n",
    "    else:\n",
    "        print(num,\"is not a perfect no\")\n",
    "    \n",
    "num=int(input(\"Enter a no: \"))\n",
    "perfect(num)\n",
    "        "
   ]
  },
  {
   "cell_type": "code",
   "execution_count": null,
   "metadata": {},
   "outputs": [],
   "source": []
  }
 ],
 "metadata": {
  "kernelspec": {
   "display_name": "Python 3",
   "language": "python",
   "name": "python3"
  },
  "language_info": {
   "codemirror_mode": {
    "name": "ipython",
    "version": 3
   },
   "file_extension": ".py",
   "mimetype": "text/x-python",
   "name": "python",
   "nbconvert_exporter": "python",
   "pygments_lexer": "ipython3",
   "version": "3.6.4"
  }
 },
 "nbformat": 4,
 "nbformat_minor": 2
}
