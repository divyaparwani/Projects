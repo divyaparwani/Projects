{
 "cells": [
  {
   "cell_type": "code",
   "execution_count": 3,
   "metadata": {},
   "outputs": [
    {
     "name": "stdout",
     "output_type": "stream",
     "text": [
      "Enter a no: 11\n",
      "Prime no.\n"
     ]
    }
   ],
   "source": [
    "\n",
    "from math import sqrt\n",
    "def prime_no(num):\n",
    "    chno=round(sqrt(num))\n",
    "    counter=2\n",
    "    while counter<=chno:\n",
    "        if num%counter==0:\n",
    "            print(\"Not a prime no\")\n",
    "            break\n",
    "        counter+=1    \n",
    "\n",
    "    else:\n",
    "        print(\"Prime no.\")\n",
    "        \n",
    "num=int(input(\"Enter a no: \")) \n",
    "prime_no(num)\n",
    "    "
   ]
  },
  {
   "cell_type": "code",
   "execution_count": null,
   "metadata": {},
   "outputs": [],
   "source": []
  }
 ],
 "metadata": {
  "kernelspec": {
   "display_name": "Python 3",
   "language": "python",
   "name": "python3"
  },
  "language_info": {
   "codemirror_mode": {
    "name": "ipython",
    "version": 3
   },
   "file_extension": ".py",
   "mimetype": "text/x-python",
   "name": "python",
   "nbconvert_exporter": "python",
   "pygments_lexer": "ipython3",
   "version": "3.6.4"
  }
 },
 "nbformat": 4,
 "nbformat_minor": 2
}
