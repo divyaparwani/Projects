{
 "cells": [
  {
   "cell_type": "code",
   "execution_count": 3,
   "metadata": {},
   "outputs": [
    {
     "name": "stdout",
     "output_type": "stream",
     "text": [
      "Enter day no: 6\n",
      "Saturday\n"
     ]
    }
   ],
   "source": [
    "day=['Monday','Tuesday','Wednesday','Thursday','Friday','Saturday','Sunday']\n",
    "ip=int(input(\"Enter day no: \"))\n",
    "if ip==1:\n",
    "    print(day[0])\n",
    "elif ip==2:\n",
    "     print(day[1])\n",
    "elif ip==3:\n",
    "     print(day[2]) \n",
    "elif ip==4:\n",
    "     print(day[3])\n",
    "elif ip==5:\n",
    "     print(day[4])\n",
    "elif ip==6:\n",
    "     print(day[5])   \n",
    "elif ip==7:\n",
    "     print(day[6])\n",
    "else:\n",
    "    print(\"Invalid no. Try again\")"
   ]
  },
  {
   "cell_type": "code",
   "execution_count": null,
   "metadata": {},
   "outputs": [],
   "source": []
  }
 ],
 "metadata": {
  "kernelspec": {
   "display_name": "Python 3",
   "language": "python",
   "name": "python3"
  },
  "language_info": {
   "codemirror_mode": {
    "name": "ipython",
    "version": 3
   },
   "file_extension": ".py",
   "mimetype": "text/x-python",
   "name": "python",
   "nbconvert_exporter": "python",
   "pygments_lexer": "ipython3",
   "version": "3.6.4"
  }
 },
 "nbformat": 4,
 "nbformat_minor": 2
}
