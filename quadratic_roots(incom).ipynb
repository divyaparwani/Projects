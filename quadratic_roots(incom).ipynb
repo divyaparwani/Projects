{
 "cells": [
  {
   "cell_type": "code",
   "execution_count": 4,
   "metadata": {},
   "outputs": [
    {
     "name": "stdout",
     "output_type": "stream",
     "text": [
      "Enter a :2\n",
      "Enter b :7\n",
      "Enter c :3\n",
      "The equation is : 2x^2+7x+3=0\n",
      "root1: -12.0\n",
      "root2: -2.0\n"
     ]
    }
   ],
   "source": [
    "a=int(input(\"Enter a :\"))\n",
    "b=int(input(\"Enter b :\"))\n",
    "c=int(input(\"Enter c :\"))\n",
    "print(\"The equation is : {}x^2+{}x+{}=0\".format(a,b,c))\n",
    "d=(b**2)-(4*a*c)\n",
    "import math\n",
    "if d>0:\n",
    "    root1=-b-pow(d,0.5)/2*a\n",
    "    root2=-b+pow(d,0.5)/2*a\n",
    "    print(\"root1:\",root1)\n",
    "    print(\"root2:\",root2)\n"
   ]
  },
  {
   "cell_type": "code",
   "execution_count": null,
   "metadata": {},
   "outputs": [],
   "source": []
  }
 ],
 "metadata": {
  "kernelspec": {
   "display_name": "Python 3",
   "language": "python",
   "name": "python3"
  },
  "language_info": {
   "codemirror_mode": {
    "name": "ipython",
    "version": 3
   },
   "file_extension": ".py",
   "mimetype": "text/x-python",
   "name": "python",
   "nbconvert_exporter": "python",
   "pygments_lexer": "ipython3",
   "version": "3.6.4"
  }
 },
 "nbformat": 4,
 "nbformat_minor": 2
}
