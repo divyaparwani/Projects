{
 "cells": [
  {
   "cell_type": "code",
   "execution_count": 5,
   "metadata": {},
   "outputs": [
    {
     "name": "stdout",
     "output_type": "stream",
     "text": [
      "Enter 1st angle: 19\n",
      "Enter 2nd angle: 90\n",
      "Enter 3rd angle: 29\n",
      "Not possible\n"
     ]
    }
   ],
   "source": [
    "a1=int(input(\"Enter 1st angle: \"))\n",
    "a2=int(input(\"Enter 2nd angle: \"))\n",
    "a3=int(input(\"Enter 3rd angle: \"))\n",
    "if (a1+a2+a3)==180:\n",
    "    print(\"Triangle is feasible\")\n",
    "else:\n",
    "    print(\"Not possible\")"
   ]
  },
  {
   "cell_type": "code",
   "execution_count": null,
   "metadata": {},
   "outputs": [],
   "source": []
  }
 ],
 "metadata": {
  "kernelspec": {
   "display_name": "Python 3",
   "language": "python",
   "name": "python3"
  },
  "language_info": {
   "codemirror_mode": {
    "name": "ipython",
    "version": 3
   },
   "file_extension": ".py",
   "mimetype": "text/x-python",
   "name": "python",
   "nbconvert_exporter": "python",
   "pygments_lexer": "ipython3",
   "version": "3.6.4"
  }
 },
 "nbformat": 4,
 "nbformat_minor": 2
}
