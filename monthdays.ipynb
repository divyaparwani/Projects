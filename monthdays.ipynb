{
 "cells": [
  {
   "cell_type": "code",
   "execution_count": 5,
   "metadata": {},
   "outputs": [
    {
     "name": "stdout",
     "output_type": "stream",
     "text": [
      "Enter month no: 2\n",
      "Is it a leap year? no\n",
      "No of days in month 2 are 28\n"
     ]
    }
   ],
   "source": [
    "month=int(input(\"Enter month no: \"))\n",
    "if month==(1 or 3 or 5 or 7 or 8 or 10 or 12):\n",
    "    print(\"No of days in {} month are 31\".format(month))\n",
    "elif month==2:\n",
    "    yr=input(\"Is it a leap year? \").strip().lower()\n",
    "    if yr==\"yes\":\n",
    "        print(\"No of days in month {} are 29\".format(month))\n",
    "    else:\n",
    "        print(\"No of days in month {} are 28\".format(month))\n",
    "else:\n",
    "    print(\"No of days in month {} are 30\".format(month))"
   ]
  },
  {
   "cell_type": "code",
   "execution_count": null,
   "metadata": {},
   "outputs": [],
   "source": []
  }
 ],
 "metadata": {
  "kernelspec": {
   "display_name": "Python 3",
   "language": "python",
   "name": "python3"
  },
  "language_info": {
   "codemirror_mode": {
    "name": "ipython",
    "version": 3
   },
   "file_extension": ".py",
   "mimetype": "text/x-python",
   "name": "python",
   "nbconvert_exporter": "python",
   "pygments_lexer": "ipython3",
   "version": "3.6.4"
  }
 },
 "nbformat": 4,
 "nbformat_minor": 2
}
