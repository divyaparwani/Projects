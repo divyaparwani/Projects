{
 "cells": [
  {
   "cell_type": "code",
   "execution_count": 5,
   "metadata": {},
   "outputs": [
    {
     "name": "stdout",
     "output_type": "stream",
     "text": [
      "10  Hello world\n",
      "9  Hello world\n",
      "8  Hello world\n",
      "7  Hello world\n",
      "6  Hello world\n",
      "5  Hello world\n",
      "4  Hello world\n",
      "3  Hello world\n",
      "2  Hello world\n",
      "1  Hello world\n"
     ]
    }
   ],
   "source": [
    "c=10\n",
    "def hello():\n",
    "    global c\n",
    "    while c>0:\n",
    "        print(c,\" Hello world\")\n",
    "        c=c-1\n",
    "        hello()\n",
    "hello()    "
   ]
  },
  {
   "cell_type": "code",
   "execution_count": 11,
   "metadata": {},
   "outputs": [],
   "source": [
    "c=10\n",
    "def hello():\n",
    "    #global c\n",
    "    while c>0:\n",
    "        print(c,\" Hello world\")\n",
    "        c=c-1\n",
    "        hello()\n",
    " "
   ]
  },
  {
   "cell_type": "code",
   "execution_count": 18,
   "metadata": {},
   "outputs": [
    {
     "name": "stdout",
     "output_type": "stream",
     "text": [
      "1  Hello world\n",
      "2  Hello world\n",
      "3  Hello world\n",
      "4  Hello world\n",
      "5  Hello world\n",
      "6  Hello world\n",
      "7  Hello world\n",
      "8  Hello world\n",
      "9  Hello world\n",
      "10  Hello world\n"
     ]
    }
   ],
   "source": [
    "def hello():\n",
    "    while hello.c<11:\n",
    "        print(hello.c,\" Hello world\")\n",
    "        hello.c=hello.c+1\n",
    "        hello()\n",
    "        \n",
    "hello.c=1    \n",
    "hello()"
   ]
  },
  {
   "cell_type": "code",
   "execution_count": 7,
   "metadata": {},
   "outputs": [
    {
     "data": {
      "text/plain": [
       "6"
      ]
     },
     "execution_count": 7,
     "metadata": {},
     "output_type": "execute_result"
    }
   ],
   "source": [
    "\n",
    "def factorial(num):\n",
    "    if num==1:\n",
    "        return 1\n",
    "    return num* factorial(num-1)\n",
    "   \n",
    "factorial(3)        \n",
    "        "
   ]
  },
  {
   "cell_type": "markdown",
   "metadata": {},
   "source": [
    "<h1 style=\"color:red\">Special functions</h1>"
   ]
  },
  {
   "cell_type": "code",
   "execution_count": null,
   "metadata": {},
   "outputs": [],
   "source": [
    "add=lambda x,y: x+y \n",
    "add(2,3)"
   ]
  },
  {
   "cell_type": "code",
   "execution_count": 21,
   "metadata": {},
   "outputs": [],
   "source": [
    "fact=lambda num: 1 if num==1 else num*fact(num-1) "
   ]
  },
  {
   "cell_type": "code",
   "execution_count": 22,
   "metadata": {},
   "outputs": [
    {
     "data": {
      "text/plain": [
       "120"
      ]
     },
     "execution_count": 22,
     "metadata": {},
     "output_type": "execute_result"
    }
   ],
   "source": [
    "fact(5)"
   ]
  },
  {
   "cell_type": "markdown",
   "metadata": {},
   "source": []
  }
 ],
 "metadata": {
  "kernelspec": {
   "display_name": "Python 3",
   "language": "python",
   "name": "python3"
  },
  "language_info": {
   "codemirror_mode": {
    "name": "ipython",
    "version": 3
   },
   "file_extension": ".py",
   "mimetype": "text/x-python",
   "name": "python",
   "nbconvert_exporter": "python",
   "pygments_lexer": "ipython3",
   "version": "3.6.4"
  }
 },
 "nbformat": 4,
 "nbformat_minor": 2
}
