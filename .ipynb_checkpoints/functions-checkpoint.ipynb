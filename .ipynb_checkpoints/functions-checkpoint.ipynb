{
 "cells": [
  {
   "cell_type": "code",
   "execution_count": 5,
   "metadata": {},
   "outputs": [],
   "source": [
    "def fun1():\n",
    "    pass\n"
   ]
  },
  {
   "cell_type": "code",
   "execution_count": 6,
   "metadata": {},
   "outputs": [
    {
     "name": "stdout",
     "output_type": "stream",
     "text": [
      "None\n"
     ]
    }
   ],
   "source": [
    "k=fun1()\n",
    "print(k)"
   ]
  },
  {
   "cell_type": "code",
   "execution_count": 7,
   "metadata": {},
   "outputs": [],
   "source": [
    "#by default functions returns None unless mentioned\n"
   ]
  },
  {
   "cell_type": "code",
   "execution_count": 8,
   "metadata": {},
   "outputs": [
    {
     "name": "stdout",
     "output_type": "stream",
     "text": [
      "Hello\n",
      "***********************************************Divya************************************************\n"
     ]
    }
   ],
   "source": [
    "def hello(name):\n",
    "    print(\"Hello\")\n",
    "    print(\"{}\".format(name).center(100,\"*\"))\n",
    "hello(\"Divya\")    "
   ]
  },
  {
   "cell_type": "code",
   "execution_count": null,
   "metadata": {},
   "outputs": [],
   "source": [
    "def calc(var1,var2,op):\n",
    "    result=0\n",
    "    if op=='+':\n",
    "        return(var1+var2)\n",
    "    elif op=='-':\n",
    "        return(var1-var2)\n",
    "    elif op=='*':\n",
    "        return(var1*var2)\n",
    "    elif op=='//':\n",
    "        return(var1//var2)\n",
    "    elif op=='/':\n",
    "        return(var1/var2)    \n",
    "    elif op=='**':\n",
    "        return(var1**var2)\n",
    "    elif op=='%':\n",
    "        return(var1%var2)\n",
    "        \n",
    "a=int(input(\"Enter 1st no:\")) \n",
    "b=int(input(\"Enter 2nd no:\")) \n",
    "c=input(\"Choose an operation from:\\n1.+ \\n2.- \\n3.* \\n4./ \\n5.// \\n6.** \\n7.%\")\n",
    "res=calc(a,b,c)\n",
    "print(res)"
   ]
  },
  {
   "cell_type": "code",
   "execution_count": null,
   "metadata": {},
   "outputs": [],
   "source": [
    "def calc(var1,var2,op):\n",
    "    result=0\n",
    "    if op=='+':\n",
    "        return(var1+var2)\n",
    "    elif op=='-':\n",
    "        return(var1-var2)\n",
    "    elif op=='*':\n",
    "        return(var1*var2)\n",
    "    elif op=='//':\n",
    "        return(var1//var2)\n",
    "    elif op=='/':\n",
    "        return(var1/var2)    \n",
    "    elif op=='**':\n",
    "        return(var1**var2)\n",
    "    elif op=='%':\n",
    "        return(var1%var2)\n",
    "        \n",
    "a=int(input(\"Enter 1st no:\")) \n",
    "b=int(input(\"Enter 2nd no:\")) \n",
    "c=input(\"Choose an operation from:\\n1.+ \\n2.- \\n3.* \\n4./ \\n5.// \\n6.** \\n7.%\")\n",
    "res=calc(a,b,c)\n",
    "print(res)"
   ]
  },
  {
   "cell_type": "code",
   "execution_count": 10,
   "metadata": {},
   "outputs": [
    {
     "data": {
      "text/plain": [
       "'olleH dlroW'"
      ]
     },
     "execution_count": 10,
     "metadata": {},
     "output_type": "execute_result"
    }
   ],
   "source": [
    "def rev(x,y):\n",
    "    a=x[-1::-1]\n",
    "    b=y[-1::-1]\n",
    "    c=a+\" \"+b\n",
    "    return c\n",
    "rev(\"Hello\", \"World\")"
   ]
  },
  {
   "cell_type": "code",
   "execution_count": 14,
   "metadata": {},
   "outputs": [
    {
     "ename": "TypeError",
     "evalue": "add() takes 6 positional arguments but 8 were given",
     "output_type": "error",
     "traceback": [
      "\u001b[1;31m---------------------------------------------------------------------------\u001b[0m",
      "\u001b[1;31mTypeError\u001b[0m                                 Traceback (most recent call last)",
      "\u001b[1;32m<ipython-input-14-8fcf54ae8001>\u001b[0m in \u001b[0;36m<module>\u001b[1;34m()\u001b[0m\n\u001b[0;32m      2\u001b[0m     \u001b[0mprint\u001b[0m\u001b[1;33m(\u001b[0m\u001b[1;34m\"x=\"\u001b[0m\u001b[1;33m,\u001b[0m\u001b[0mx\u001b[0m\u001b[1;33m)\u001b[0m\u001b[1;33m\u001b[0m\u001b[0m\n\u001b[0;32m      3\u001b[0m     \u001b[0mprint\u001b[0m\u001b[1;33m(\u001b[0m\u001b[1;34m\"y=\"\u001b[0m\u001b[1;33m,\u001b[0m\u001b[0my\u001b[0m\u001b[1;33m)\u001b[0m\u001b[1;33m\u001b[0m\u001b[0m\n\u001b[1;32m----> 4\u001b[1;33m \u001b[0madd\u001b[0m\u001b[1;33m(\u001b[0m\u001b[1;36m12\u001b[0m\u001b[1;33m,\u001b[0m\u001b[1;36m1\u001b[0m\u001b[1;33m,\u001b[0m\u001b[1;36m23\u001b[0m\u001b[1;33m,\u001b[0m\u001b[1;36m4\u001b[0m\u001b[1;33m,\u001b[0m\u001b[1;36m3\u001b[0m\u001b[1;33m,\u001b[0m\u001b[1;36m2\u001b[0m\u001b[1;33m,\u001b[0m\u001b[1;36m2\u001b[0m\u001b[1;33m,\u001b[0m\u001b[1;36m3\u001b[0m\u001b[1;33m)\u001b[0m\u001b[1;33m\u001b[0m\u001b[0m\n\u001b[0m",
      "\u001b[1;31mTypeError\u001b[0m: add() takes 6 positional arguments but 8 were given"
     ]
    }
   ],
   "source": [
    "def add(x,y,z,a,b,c):\n",
    "    print(\"x=\",x)\n",
    "    print(\"y=\",y)\n",
    "add(12,1,23,4,3,2,2,3)    "
   ]
  },
  {
   "cell_type": "code",
   "execution_count": null,
   "metadata": {},
   "outputs": [],
   "source": [
    "def my_range(x=1,y=None,step=1):\n",
    "    var=x\n",
    "    l=[]\n",
    "    while var<=y:\n",
    "        l.append(var)\n",
    "        var=var+step\n",
    "    else:\n",
    "        c=0\n",
    "        while c<x:\n",
    "            l.append(c)\n",
    "    return l\n",
    "my_range(y=3)\n",
    "        "
   ]
  },
  {
   "cell_type": "code",
   "execution_count": 3,
   "metadata": {},
   "outputs": [
    {
     "name": "stdout",
     "output_type": "stream",
     "text": [
      "***************\n",
      "***************\n",
      "\n",
      "Hello, Divya\n",
      "\n",
      "***************\n",
      "***************\n"
     ]
    }
   ],
   "source": [
    "#decorators\n",
    "\n",
    "def hello(name):\n",
    "    print(\"Hello, {}\".format(name))\n",
    "def another(old):\n",
    "    def brandnew(var):\n",
    "        c=len(var)\n",
    "        print(\"*\"*(c*3))\n",
    "        print(\"*\"*(c*3))\n",
    "        print()\n",
    "        old(var)\n",
    "        print()\n",
    "        print(\"*\"*(c*3))\n",
    "        print(\"*\"*(c*3))\n",
    "    return brandnew\n",
    "fancy_print=another(hello)\n",
    "fancy_print(\"Divya\")"
   ]
  },
  {
   "cell_type": "code",
   "execution_count": 1,
   "metadata": {},
   "outputs": [
    {
     "name": "stdout",
     "output_type": "stream",
     "text": [
      "******************************\n",
      "******************************\n",
      "\n",
      "dlrow olleh\n",
      "\n",
      "******************************\n",
      "******************************\n"
     ]
    }
   ],
   "source": [
    "  \n",
    "def another(old):\n",
    "    def brand_new(var1,var2):\n",
    "        \n",
    "        print(\"*\"*30)\n",
    "        print(\"*\"*30)\n",
    "        print()\n",
    "        old(var1,var2)\n",
    "        print()\n",
    "        print(\"*\"*30)\n",
    "        print(\"*\"*30)\n",
    "    return brand_new\n",
    "\n",
    "@another #alternate way to call \"another\" decorator\n",
    "def change(x,y):\n",
    "    s=y[::-1]+\" \"+x[::-1]\n",
    "    print(s)\n",
    "    \n",
    "change(\"hello\",\"world\")  "
   ]
  },
  {
   "cell_type": "code",
   "execution_count": 9,
   "metadata": {},
   "outputs": [
    {
     "name": "stdout",
     "output_type": "stream",
     "text": [
      "<html> <body> <b> <p> <i> Hello world</i></p></b></body></html>\n"
     ]
    }
   ],
   "source": [
    "def add_tag(*tags):\n",
    "    def decorator(old_fun):\n",
    "        def worker(string):\n",
    "            s=string\n",
    "            for tag in reversed(tags):\n",
    "                s = \"<{0}> {1}</{0}>\".format(tag,s)\n",
    "            return s\n",
    "        return worker\n",
    "    return decorator\n",
    "@add_tag(\"html\",\"body\",\"b\",\"p\",\"i\")\n",
    "def avai(string):\n",
    "    return string\n",
    "html_string=avai(\"Hello world\")\n",
    "print(html_string)"
   ]
  },
  {
   "cell_type": "code",
   "execution_count": 9,
   "metadata": {},
   "outputs": [
    {
     "name": "stdout",
     "output_type": "stream",
     "text": [
      "[1, 1, 6, 10]\n"
     ]
    }
   ],
   "source": [
    "l=['1','1.16','6.35','10']\n",
    "r=[]\n",
    "for items in l:\n",
    "    r.append(round(float(items)))\n",
    "print(r)    \n",
    "    "
   ]
  },
  {
   "cell_type": "code",
   "execution_count": 10,
   "metadata": {},
   "outputs": [
    {
     "name": "stdout",
     "output_type": "stream",
     "text": [
      "Help on class zip in module builtins:\n",
      "\n",
      "class zip(object)\n",
      " |  zip(iter1 [,iter2 [...]]) --> zip object\n",
      " |  \n",
      " |  Return a zip object whose .__next__() method returns a tuple where\n",
      " |  the i-th element comes from the i-th iterable argument.  The .__next__()\n",
      " |  method continues until the shortest iterable in the argument sequence\n",
      " |  is exhausted and then it raises StopIteration.\n",
      " |  \n",
      " |  Methods defined here:\n",
      " |  \n",
      " |  __getattribute__(self, name, /)\n",
      " |      Return getattr(self, name).\n",
      " |  \n",
      " |  __iter__(self, /)\n",
      " |      Implement iter(self).\n",
      " |  \n",
      " |  __new__(*args, **kwargs) from builtins.type\n",
      " |      Create and return a new object.  See help(type) for accurate signature.\n",
      " |  \n",
      " |  __next__(self, /)\n",
      " |      Implement next(self).\n",
      " |  \n",
      " |  __reduce__(...)\n",
      " |      Return state information for pickling.\n",
      "\n"
     ]
    }
   ],
   "source": [
    "help(zip)"
   ]
  },
  {
   "cell_type": "code",
   "execution_count": 11,
   "metadata": {},
   "outputs": [
    {
     "ename": "NameError",
     "evalue": "name 'eve_odd' is not defined",
     "output_type": "error",
     "traceback": [
      "\u001b[1;31m---------------------------------------------------------------------------\u001b[0m",
      "\u001b[1;31mNameError\u001b[0m                                 Traceback (most recent call last)",
      "\u001b[1;32m<ipython-input-11-13376cf0c662>\u001b[0m in \u001b[0;36m<module>\u001b[1;34m()\u001b[0m\n\u001b[1;32m----> 1\u001b[1;33m \u001b[0mk\u001b[0m\u001b[1;33m=\u001b[0m\u001b[0mlist\u001b[0m\u001b[1;33m(\u001b[0m\u001b[0mmap\u001b[0m\u001b[1;33m(\u001b[0m\u001b[0meve_odd\u001b[0m\u001b[1;33m,\u001b[0m\u001b[0ml\u001b[0m\u001b[1;33m)\u001b[0m\u001b[1;33m)\u001b[0m \u001b[1;31m#iterates l to eve_odd\u001b[0m\u001b[1;33m\u001b[0m\u001b[0m\n\u001b[0m\u001b[0;32m      2\u001b[0m \u001b[1;33m\u001b[0m\u001b[0m\n",
      "\u001b[1;31mNameError\u001b[0m: name 'eve_odd' is not defined"
     ]
    }
   ],
   "source": [
    "k=list(map(eve_odd,l)) #iterates l to eve_odd or any function\n",
    "\n"
   ]
  },
  {
   "cell_type": "code",
   "execution_count": 13,
   "metadata": {},
   "outputs": [
    {
     "name": "stdout",
     "output_type": "stream",
     "text": [
      "12 36 71 917 992 92\n"
     ]
    },
    {
     "data": {
      "text/plain": [
       "[12, 36, 71, 917, 992, 92]"
      ]
     },
     "execution_count": 13,
     "metadata": {},
     "output_type": "execute_result"
    }
   ],
   "source": [
    "x=list(map(int,input().split()))\n",
    "x"
   ]
  },
  {
   "cell_type": "code",
   "execution_count": 14,
   "metadata": {},
   "outputs": [
    {
     "name": "stdout",
     "output_type": "stream",
     "text": [
      "Help on class filter in module builtins:\n",
      "\n",
      "class filter(object)\n",
      " |  filter(function or None, iterable) --> filter object\n",
      " |  \n",
      " |  Return an iterator yielding those items of iterable for which function(item)\n",
      " |  is true. If function is None, return the items that are true.\n",
      " |  \n",
      " |  Methods defined here:\n",
      " |  \n",
      " |  __getattribute__(self, name, /)\n",
      " |      Return getattr(self, name).\n",
      " |  \n",
      " |  __iter__(self, /)\n",
      " |      Implement iter(self).\n",
      " |  \n",
      " |  __new__(*args, **kwargs) from builtins.type\n",
      " |      Create and return a new object.  See help(type) for accurate signature.\n",
      " |  \n",
      " |  __next__(self, /)\n",
      " |      Implement next(self).\n",
      " |  \n",
      " |  __reduce__(...)\n",
      " |      Return state information for pickling.\n",
      "\n"
     ]
    }
   ],
   "source": [
    "help(filter)"
   ]
  },
  {
   "cell_type": "code",
   "execution_count": 19,
   "metadata": {},
   "outputs": [
    {
     "name": "stdout",
     "output_type": "stream",
     "text": [
      "(1, 4, 7, 'a') (2, 5, 8, 'b') (3, 6, 9, 'c')\n"
     ]
    }
   ],
   "source": [
    "x=[1,2,3]\n",
    "y=[4,5,6]\n",
    "z=[7,8,9]\n",
    "p=['a','b','c']\n",
    "print(*zip(x,y,z,p)) #to zip the length of all the lists should be same"
   ]
  },
  {
   "cell_type": "code",
   "execution_count": 20,
   "metadata": {},
   "outputs": [
    {
     "name": "stdout",
     "output_type": "stream",
     "text": [
      "p y t h o n\n"
     ]
    }
   ],
   "source": [
    "print(*\"python\") # * is used infront of sequences for iteration and print each value"
   ]
  },
  {
   "cell_type": "code",
   "execution_count": 21,
   "metadata": {},
   "outputs": [
    {
     "name": "stdout",
     "output_type": "stream",
     "text": [
      "python\n"
     ]
    }
   ],
   "source": [
    "print(\"python\")"
   ]
  },
  {
   "cell_type": "code",
   "execution_count": 22,
   "metadata": {},
   "outputs": [
    {
     "name": "stdout",
     "output_type": "stream",
     "text": [
      "<zip object at 0x00000291CCBC1388>\n"
     ]
    }
   ],
   "source": [
    "print(zip(x,y,z,p))"
   ]
  },
  {
   "cell_type": "code",
   "execution_count": null,
   "metadata": {},
   "outputs": [],
   "source": [
    "name=input(\"Name of students: \").split()\n",
    "maths=list(map(int,input(\"Maths marks of students: \").split()))\n",
    "science=list(map(int,input(\"science marks of students: \").split()))\n",
    "print(*zip(name,maths.science,map(lambda x,y:(x+y)/2,maths,science)))\n"
   ]
  },
  {
   "cell_type": "code",
   "execution_count": null,
   "metadata": {},
   "outputs": [],
   "source": [
    "k=\"python\"\n",
    "a=iter(k)\n",
    "next(k)"
   ]
  },
  {
   "cell_type": "code",
   "execution_count": 3,
   "metadata": {},
   "outputs": [
    {
     "data": {
      "text/plain": [
       "[78, 98, 95]"
      ]
     },
     "execution_count": 3,
     "metadata": {},
     "output_type": "execute_result"
    }
   ],
   "source": [
    "r=[30,40,50,60,78,98,74,95,59,67]\n",
    "list(filter(lambda x: True if x>75 else False,r))\n"
   ]
  },
  {
   "cell_type": "code",
   "execution_count": 4,
   "metadata": {},
   "outputs": [
    {
     "data": {
      "text/plain": [
       "[False, False, False, False, True, True, False, True, False, False]"
      ]
     },
     "execution_count": 4,
     "metadata": {},
     "output_type": "execute_result"
    }
   ],
   "source": [
    "list(map(lambda x: True if x>75 else False,r))"
   ]
  },
  {
   "cell_type": "code",
   "execution_count": null,
   "metadata": {},
   "outputs": [],
   "source": []
  }
 ],
 "metadata": {
  "kernelspec": {
   "display_name": "Python 3",
   "language": "python",
   "name": "python3"
  },
  "language_info": {
   "codemirror_mode": {
    "name": "ipython",
    "version": 3
   },
   "file_extension": ".py",
   "mimetype": "text/x-python",
   "name": "python",
   "nbconvert_exporter": "python",
   "pygments_lexer": "ipython3",
   "version": "3.6.4"
  }
 },
 "nbformat": 4,
 "nbformat_minor": 2
}
