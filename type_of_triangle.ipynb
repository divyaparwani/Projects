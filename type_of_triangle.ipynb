{
 "cells": [
  {
   "cell_type": "code",
   "execution_count": 2,
   "metadata": {},
   "outputs": [
    {
     "name": "stdout",
     "output_type": "stream",
     "text": [
      "Enter side 1: 10\n",
      "Enter side 2: 10\n",
      "Enter side 3: 7\n",
      "Triangle is isosceles\n"
     ]
    }
   ],
   "source": [
    "s1=int(input(\"Enter side 1: \"))\n",
    "s2=int(input(\"Enter side 2: \"))\n",
    "s3=int(input(\"Enter side 3: \"))\n",
    "if s1==s2==s3:\n",
    "    print(\"Triangle is equilateral\")\n",
    "elif s1==s2 or s1==s3 or s2==s3:\n",
    "     print(\"Triangle is isosceles\")\n",
    "else:\n",
    "     print(\"Triangle is scelene\")"
   ]
  },
  {
   "cell_type": "code",
   "execution_count": null,
   "metadata": {},
   "outputs": [],
   "source": []
  }
 ],
 "metadata": {
  "kernelspec": {
   "display_name": "Python 3",
   "language": "python",
   "name": "python3"
  },
  "language_info": {
   "codemirror_mode": {
    "name": "ipython",
    "version": 3
   },
   "file_extension": ".py",
   "mimetype": "text/x-python",
   "name": "python",
   "nbconvert_exporter": "python",
   "pygments_lexer": "ipython3",
   "version": "3.6.4"
  }
 },
 "nbformat": 4,
 "nbformat_minor": 2
}
