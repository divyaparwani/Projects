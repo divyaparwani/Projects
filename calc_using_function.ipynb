{
 "cells": [
  {
   "cell_type": "code",
   "execution_count": 2,
   "metadata": {},
   "outputs": [
    {
     "name": "stdout",
     "output_type": "stream",
     "text": [
      "Enter 1st no:3\n",
      "Enter 2nd no:4\n",
      "Choose an operation from:\n",
      "1.+ \n",
      "2.- \n",
      "3.* \n",
      "4./ \n",
      "5.// \n",
      "6.** \n",
      "7.% \n",
      "-\n",
      "-1\n"
     ]
    }
   ],
   "source": [
    "def calc(var1,var2,op):\n",
    "    result=0\n",
    "    if op=='+':\n",
    "        return(var1+var2)\n",
    "    elif op=='-':\n",
    "        return(var1-var2)\n",
    "    elif op=='*':\n",
    "        return(var1*var2)\n",
    "    elif op=='//':\n",
    "        return(var1//var2)\n",
    "    elif op=='/':\n",
    "        return(var1/var2)    \n",
    "    elif op=='**':\n",
    "        return(var1**var2)\n",
    "    elif op=='%':\n",
    "        return(var1%var2)\n",
    "        \n",
    "        \n",
    "a=int(input(\"Enter 1st no:\")) \n",
    "b=int(input(\"Enter 2nd no:\")) \n",
    "c=input(\"Choose an operation from:\\n1.+ \\n2.- \\n3.* \\n4./ \\n5.// \\n6.** \\n7.% \\n\")\n",
    "res=calc(a,b,c)\n",
    "print(res)"
   ]
  },
  {
   "cell_type": "code",
   "execution_count": null,
   "metadata": {},
   "outputs": [],
   "source": []
  }
 ],
 "metadata": {
  "kernelspec": {
   "display_name": "Python 3",
   "language": "python",
   "name": "python3"
  },
  "language_info": {
   "codemirror_mode": {
    "name": "ipython",
    "version": 3
   },
   "file_extension": ".py",
   "mimetype": "text/x-python",
   "name": "python",
   "nbconvert_exporter": "python",
   "pygments_lexer": "ipython3",
   "version": "3.6.4"
  }
 },
 "nbformat": 4,
 "nbformat_minor": 2
}
