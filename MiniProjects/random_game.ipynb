{
 "cells": [
  {
   "cell_type": "code",
   "execution_count": 4,
   "metadata": {},
   "outputs": [
    {
     "data": {
      "text/plain": [
       "9"
      ]
     },
     "execution_count": 4,
     "metadata": {},
     "output_type": "execute_result"
    }
   ],
   "source": [
    "from random import randint\n",
    "randint(1,50)\n"
   ]
  },
  {
   "cell_type": "code",
   "execution_count": 14,
   "metadata": {},
   "outputs": [
    {
     "name": "stdout",
     "output_type": "stream",
     "text": [
      "Enter a no.:4\n",
      "Guess higher\n",
      "Enter a no.:19\n",
      "Guess higher\n",
      "Enter a no.:23\n",
      "Guess higher\n",
      "Enter a no.:29\n",
      "Guess lower\n",
      "Enter a no.:22\n",
      "Guess higher\n",
      "Random no. was: 26\n",
      "You lost\n"
     ]
    }
   ],
   "source": [
    "a=randint(1,50)\n",
    "\n",
    "for var in range(1,6):\n",
    "    guess=int(input(\"Enter a no.:\"))\n",
    "    if guess==a:\n",
    "        print(\"Matched\")\n",
    "        break\n",
    "    elif guess<a:\n",
    "        print(\"Guess higher\")\n",
    "    elif guess>a:\n",
    "        print(\"Guess lower\")\n",
    "    if var==5:\n",
    "        print(\"Random no. was:\",a)\n",
    "        print(\"You lost\")"
   ]
  },
  {
   "cell_type": "code",
   "execution_count": null,
   "metadata": {},
   "outputs": [],
   "source": []
  }
 ],
 "metadata": {
  "kernelspec": {
   "display_name": "Python 3",
   "language": "python",
   "name": "python3"
  },
  "language_info": {
   "codemirror_mode": {
    "name": "ipython",
    "version": 3
   },
   "file_extension": ".py",
   "mimetype": "text/x-python",
   "name": "python",
   "nbconvert_exporter": "python",
   "pygments_lexer": "ipython3",
   "version": "3.6.4"
  }
 },
 "nbformat": 4,
 "nbformat_minor": 2
}
