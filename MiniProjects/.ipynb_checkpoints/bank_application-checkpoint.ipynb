{
 "cells": [
  {
   "cell_type": "code",
   "execution_count": null,
   "metadata": {},
   "outputs": [
    {
     "name": "stdout",
     "output_type": "stream",
     "text": [
      "Enter your choice: \n",
      "1. Sign up \n",
      "2. Login \n",
      "3.Exit \n",
      "2\n",
      "Enter your account no:1000\n",
      "Enter password: ········\n",
      "\n",
      "Please enter a valid combination\n",
      "\n"
     ]
    }
   ],
   "source": [
    "acc_details={'ac_no':[1000,1001,1002,1003,1004,1005],\n",
    "             'bal':[10000,20000,25000,30000,35000,30000],\n",
    "             'name':['John','Harry','Harry','Natasha','Natasha','Sam'],\n",
    "             'password':['abc@123','bcd@123','hi@123@am','redhat','wrestler','kbc@123']}\n",
    "\n",
    "from getpass import getpass\n",
    "import os\n",
    "option=int(input(\"Enter your choice: \\n1. Sign up \\n2. Login \\n3.Exit \\n\"))\n",
    "\n",
    "while option!=None:\n",
    "    \n",
    "    if option==1:\n",
    "        new_ac_name=input(\"Enter your name:\")\n",
    "        new_ac_pass=getpass(\"Enter password:\")\n",
    "        new_ac_bal=int(input(\"Enter balance:\"))\n",
    "        \n",
    "        os.system('cls')\n",
    "        new_accno=acc_details['ac_no'][-1] +1\n",
    "        acc_details['ac_no'].append(new_accno)\n",
    "        acc_details['name'].append(new_ac_name)\n",
    "        acc_details['bal'].append(new_ac_bal)\n",
    "        acc_details['password'].append(new_ac_pass)\n",
    "        print(\"\\nYour account has been successfully created\\n \\nHi,{}\\n\".format(new_ac_name))\n",
    "        print(\"Your account no is: {} \".format(new_accno))\n",
    "        print(\"Your account password is: {} \".format(new_ac_pass))\n",
    "        print(\"Your account balance is: {} \".format(new_ac_bal))\n",
    "        option==0\n",
    "        break\n",
    "        \n",
    "        \n",
    "    elif option==2:\n",
    "        ac_num=input(\"Enter your account no:\")\n",
    "        ac_pass=getpass(\"Enter password: \")\n",
    "        total=len(acc_details['ac_no'])\n",
    "        for i in range(0,total):\n",
    "            if  ( ac_num in acc_details['ac_no'] ) and (ac_pass in acc_details['password']):\n",
    "                print(\"Login successful\")\n",
    "                operation=int(input(\"Choose an operation: \\n1.Check balance \\n2.Withdraw \\n3.Credit\\n\"))\n",
    "                if operation==1:\n",
    "                    bal=acc_details['bal'][i]\n",
    "                    print(\"Your current balance is : \")\n",
    "                elif operation==2:\n",
    "                    amt=int(input(\"Enter amount to withdraw: \"))\n",
    "                    if amt>acc_details['bal'][i]:\n",
    "                        print(\"Insufficient balance\")\n",
    "                    else:\n",
    "                        acc_details['bal'][i]=acc_details['bal'][i]-amt\n",
    "                        print(\"Your current balance is :{} \".format(acc_details['bal'][i]))\n",
    "                elif operation==3:\n",
    "                    amt=int(input(\"Enter amount to add: \"))\n",
    "                    cc_details['bal'][i]=acc_details['bal'][i]+amt\n",
    "                    print(\"Your current balance is :{} \".format(acc_details['bal'][i]))           \n",
    "            else:\n",
    "                print(\"\\nPlease enter a valid combination\\n\")\n",
    "                break\n",
    "                \n",
    "\n",
    "    elif option==3:\n",
    "        print(\"Exit successful\")\n",
    "        exit(0)     #or sys.exit(0) after import sys\n",
    "        \n",
    "        #import os ...os.system('cls') to clear screen\n",
    "            \n",
    "            \n",
    "            \n",
    "              \n",
    "    \n"
   ]
  },
  {
   "cell_type": "code",
   "execution_count": 1,
   "metadata": {},
   "outputs": [
    {
     "ename": "NameError",
     "evalue": "name 'file' is not defined",
     "output_type": "error",
     "traceback": [
      "\u001b[1;31m---------------------------------------------------------------------------\u001b[0m",
      "\u001b[1;31mNameError\u001b[0m                                 Traceback (most recent call last)",
      "\u001b[1;32m<ipython-input-1-e84b6595df4f>\u001b[0m in \u001b[0;36m<module>\u001b[1;34m()\u001b[0m\n\u001b[0;32m      1\u001b[0m \u001b[1;32mimport\u001b[0m \u001b[0mjson\u001b[0m\u001b[1;33m\u001b[0m\u001b[0m\n\u001b[1;32m----> 2\u001b[1;33m \u001b[0mjson\u001b[0m\u001b[1;33m.\u001b[0m\u001b[0mdump\u001b[0m\u001b[1;33m(\u001b[0m\u001b[0mfile\u001b[0m\u001b[1;33m)\u001b[0m\u001b[1;33m\u001b[0m\u001b[0m\n\u001b[0m\u001b[0;32m      3\u001b[0m \u001b[0mjson\u001b[0m\u001b[1;33m.\u001b[0m\u001b[0mload\u001b[0m\u001b[1;33m(\u001b[0m\u001b[0mfile\u001b[0m\u001b[1;33m)\u001b[0m\u001b[1;33m\u001b[0m\u001b[0m\n",
      "\u001b[1;31mNameError\u001b[0m: name 'file' is not defined"
     ]
    }
   ],
   "source": [
    "import json\n",
    "json.dump(file)\n",
    "json.load(file)"
   ]
  },
  {
   "cell_type": "code",
   "execution_count": 3,
   "metadata": {},
   "outputs": [
    {
     "data": {
      "text/plain": [
       "'Tue Jul 31 13:15:22 2018'"
      ]
     },
     "execution_count": 3,
     "metadata": {},
     "output_type": "execute_result"
    }
   ],
   "source": [
    "import time\n",
    "time.ctime()"
   ]
  },
  {
   "cell_type": "code",
   "execution_count": null,
   "metadata": {},
   "outputs": [],
   "source": []
  }
 ],
 "metadata": {
  "kernelspec": {
   "display_name": "Python 3",
   "language": "python",
   "name": "python3"
  },
  "language_info": {
   "codemirror_mode": {
    "name": "ipython",
    "version": 3
   },
   "file_extension": ".py",
   "mimetype": "text/x-python",
   "name": "python",
   "nbconvert_exporter": "python",
   "pygments_lexer": "ipython3",
   "version": "3.6.4"
  }
 },
 "nbformat": 4,
 "nbformat_minor": 2
}
