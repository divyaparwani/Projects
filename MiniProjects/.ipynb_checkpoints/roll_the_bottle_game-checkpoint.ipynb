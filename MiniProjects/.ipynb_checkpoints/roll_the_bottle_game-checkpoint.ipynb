{
 "cells": [
  {
   "cell_type": "code",
   "execution_count": 1,
   "metadata": {},
   "outputs": [],
   "source": [
    " from random import choice\n",
    "from time import sleep"
   ]
  },
  {
   "cell_type": "code",
   "execution_count": 13,
   "metadata": {},
   "outputs": [
    {
     "name": "stdout",
     "output_type": "stream",
     "text": [
      "\n",
      "Enter any key to comtinue or press Enter to exit:e\n",
      "Enter name of player 1: w\n",
      "Enter name of player 2: a\n",
      "Enter name of player 3: q\n",
      "Enter name of player 4: e\n",
      "Enter name of player 5: e\n",
      "\n",
      "Bottle is rolling...\n",
      "\n",
      " e 's turn\n",
      "\n",
      "Enter any key to comtinue or press Enter to exit:\n"
     ]
    }
   ],
   "source": [
    "from random import choice\n",
    "from time import sleep\n",
    "while input(\"\\nEnter any key to comtinue or press Enter to exit:\"):  #false on blank objects i.e enter,empty list,tuple, etc\n",
    "    p1=input(\"Enter name of player 1: \")\n",
    "    p2=input(\"Enter name of player 2: \")\n",
    "    p3=input(\"Enter name of player 3: \")\n",
    "    p4=input(\"Enter name of player 4: \")\n",
    "    p5=input(\"Enter name of player 5: \")\n",
    "    players=[p1,p2,p3,p4,p5]\n",
    "    print(\"\\nBottle is rolling...\")\n",
    "    from random import randint\n",
    "    sleep(randint(1,10))\n",
    "    print(\"\\n\",choice(players),\"'s turn\")\n",
    "\n",
    "\n"
   ]
  },
  {
   "cell_type": "raw",
   "metadata": {},
   "source": []
  }
 ],
 "metadata": {
  "kernelspec": {
   "display_name": "Python 3",
   "language": "python",
   "name": "python3"
  },
  "language_info": {
   "codemirror_mode": {
    "name": "ipython",
    "version": 3
   },
   "file_extension": ".py",
   "mimetype": "text/x-python",
   "name": "python",
   "nbconvert_exporter": "python",
   "pygments_lexer": "ipython3",
   "version": "3.6.4"
  }
 },
 "nbformat": 4,
 "nbformat_minor": 2
}
