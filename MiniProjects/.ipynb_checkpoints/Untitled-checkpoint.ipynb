{
 "cells": [
  {
   "cell_type": "code",
   "execution_count": null,
   "metadata": {},
   "outputs": [],
   "source": [
    "from datetime import datetime\n",
    "import json\n",
    "s=\"Date\\tSpent on\\tAmount\"\n",
    "f=open(\"August.txt\",\"w\")\n",
    "json.dump(s,f)\n",
    "f.close()\n",
    "update()\n",
    "\n",
    "\n",
    "def update():\n",
    "    file1=open(\"August.txt\",\"a+\")\n",
    "    now=datetime.datetime.now()\n",
    "    today=str(str(now.day)+ \"/\"+str(now.month)+\"/\"+str(now.year))\n",
    "    spent=input(\"Where did you spend? \")\n",
    "    amt=int(input(\"How much did you spend\"))\n",
    "    s=\"{}\\t{}\\t{}\".format(today,spent,amt)\n",
    "    json.dump(s,file1)\n",
    "    data=json.load(s,file1)\n",
    "    file1.close()\n",
    "    print(data)\n",
    "       \n",
    "       \n",
    "       \n",
    "\n"
   ]
  },
  {
   "cell_type": "code",
   "execution_count": 50,
   "metadata": {},
   "outputs": [
    {
     "name": "stdout",
     "output_type": "stream",
     "text": [
      "['MAXYEAR', 'MINYEAR', '__builtins__', '__cached__', '__doc__', '__file__', '__loader__', '__name__', '__package__', '__spec__', 'date', 'datetime', 'datetime_CAPI', 'time', 'timedelta', 'timezone', 'tzinfo']\n"
     ]
    }
   ],
   "source": [
    "import datetime\n",
    "print(dir(datetime))"
   ]
  },
  {
   "cell_type": "code",
   "execution_count": null,
   "metadata": {},
   "outputs": [],
   "source": []
  },
  {
   "cell_type": "code",
   "execution_count": 41,
   "metadata": {},
   "outputs": [
    {
     "name": "stdout",
     "output_type": "stream",
     "text": [
      "[2018, 8, 3, 21, 21]\n",
      "3/8/2018\n"
     ]
    }
   ],
   "source": [
    "import time\n",
    "from datetime import date\n",
    "today = date.today()    #or\n",
    "now=datetime.datetime.now()\n",
    "time_now = [now.year, now.month, now.day, now.hour, now.minute]\n",
    "today=str(str(now.day)+ \"/\"+str(now.month)+\"/\"+str(now.year))\n",
    "print(today)"
   ]
  },
  {
   "cell_type": "code",
   "execution_count": null,
   "metadata": {},
   "outputs": [],
   "source": []
  }
 ],
 "metadata": {
  "kernelspec": {
   "display_name": "Python 3",
   "language": "python",
   "name": "python3"
  },
  "language_info": {
   "codemirror_mode": {
    "name": "ipython",
    "version": 3
   },
   "file_extension": ".py",
   "mimetype": "text/x-python",
   "name": "python",
   "nbconvert_exporter": "python",
   "pygments_lexer": "ipython3",
   "version": "3.6.4"
  }
 },
 "nbformat": 4,
 "nbformat_minor": 2
}
