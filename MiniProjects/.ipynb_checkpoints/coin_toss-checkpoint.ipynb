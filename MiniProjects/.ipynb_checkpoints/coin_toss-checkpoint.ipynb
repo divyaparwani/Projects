{
 "cells": [
  {
   "cell_type": "code",
   "execution_count": 4,
   "metadata": {},
   "outputs": [
    {
     "name": "stdout",
     "output_type": "stream",
     "text": [
      "Enter the num of times you want to toss the coin: 5\n",
      "Coin is being tossed...\n",
      "Tails\n",
      "Coin is being tossed...\n",
      "Heads\n",
      "Coin is being tossed...\n",
      "Tails\n",
      "Coin is being tossed...\n",
      "Heads\n",
      "Coin is being tossed...\n",
      "Heads\n",
      "['Tails', 'Heads', 'Tails', 'Heads', 'Heads']\n"
     ]
    }
   ],
   "source": [
    "res=['Heads','Tails']\n",
    "from random import random,choice\n",
    "from time import sleep\n",
    "import os\n",
    "turns=[]\n",
    "turn=int(input(\"Enter the num of times you want to toss the coin: \"))\n",
    "for var in range(0,turn):\n",
    "    a=choice(res)\n",
    "    print(\"Coin is being tossed...\")\n",
    "    sleep(4)\n",
    "    print(a)\n",
    "    turns.append(a)\n",
    "print(turns) "
   ]
  },
  {
   "cell_type": "code",
   "execution_count": null,
   "metadata": {},
   "outputs": [],
   "source": []
  }
 ],
 "metadata": {
  "kernelspec": {
   "display_name": "Python 3",
   "language": "python",
   "name": "python3"
  },
  "language_info": {
   "codemirror_mode": {
    "name": "ipython",
    "version": 3
   },
   "file_extension": ".py",
   "mimetype": "text/x-python",
   "name": "python",
   "nbconvert_exporter": "python",
   "pygments_lexer": "ipython3",
   "version": "3.6.4"
  }
 },
 "nbformat": 4,
 "nbformat_minor": 2
}
