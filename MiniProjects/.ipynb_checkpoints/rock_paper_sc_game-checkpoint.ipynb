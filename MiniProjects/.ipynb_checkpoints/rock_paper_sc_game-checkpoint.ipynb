{
 "cells": [
  {
   "cell_type": "code",
   "execution_count": 1,
   "metadata": {},
   "outputs": [
    {
     "name": "stdout",
     "output_type": "stream",
     "text": [
      "Player 1:········\n",
      "Player 2:········\n",
      "player 1 won\n"
     ]
    }
   ],
   "source": [
    "from getpass import getpass\n",
    "a=getpass(\"Player 1:\")\n",
    "b=getpass(\"Player 2:\")\n",
    "ch=(a,b)\n",
    "p1=(('s','p'),('r','s'),('p','r'))\n",
    "if a==b:\n",
    "    print(\"Match tie\")\n",
    "elif ch in p1:\n",
    "    print(\"player 1 won\")\n",
    "else:\n",
    "    print(\"player 2 won\")\n",
    "    \n"
   ]
  },
  {
   "cell_type": "code",
   "execution_count": null,
   "metadata": {},
   "outputs": [],
   "source": []
  }
 ],
 "metadata": {
  "kernelspec": {
   "display_name": "Python 3",
   "language": "python",
   "name": "python3"
  },
  "language_info": {
   "codemirror_mode": {
    "name": "ipython",
    "version": 3
   },
   "file_extension": ".py",
   "mimetype": "text/x-python",
   "name": "python",
   "nbconvert_exporter": "python",
   "pygments_lexer": "ipython3",
   "version": "3.6.4"
  }
 },
 "nbformat": 4,
 "nbformat_minor": 2
}
