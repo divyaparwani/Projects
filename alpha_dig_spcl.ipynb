{
 "cells": [
  {
   "cell_type": "code",
   "execution_count": 3,
   "metadata": {},
   "outputs": [
    {
     "name": "stdout",
     "output_type": "stream",
     "text": [
      "Enter a char :_\n",
      "_ is a special char\n"
     ]
    }
   ],
   "source": [
    "a=input(\"Enter a char :\")\n",
    "if a.isdigit():\n",
    "    print(a,\" is a Digit\")\n",
    "elif a.isalpha():\n",
    "    print(a,\"is a alpha\")\n",
    "else:\n",
    "    print(a,\"is a special char\")"
   ]
  },
  {
   "cell_type": "code",
   "execution_count": null,
   "metadata": {},
   "outputs": [],
   "source": []
  }
 ],
 "metadata": {
  "kernelspec": {
   "display_name": "Python 3",
   "language": "python",
   "name": "python3"
  },
  "language_info": {
   "codemirror_mode": {
    "name": "ipython",
    "version": 3
   },
   "file_extension": ".py",
   "mimetype": "text/x-python",
   "name": "python",
   "nbconvert_exporter": "python",
   "pygments_lexer": "ipython3",
   "version": "3.6.4"
  }
 },
 "nbformat": 4,
 "nbformat_minor": 2
}
