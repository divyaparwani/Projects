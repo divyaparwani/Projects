{
 "cells": [
  {
   "cell_type": "code",
   "execution_count": 8,
   "metadata": {},
   "outputs": [
    {
     "name": "stdout",
     "output_type": "stream",
     "text": [
      "Enter physics marks:99\n",
      "Enter maths marks:28\n",
      "Enter chem marks:88\n",
      "Enter bio marks:37\n",
      "Enter eng marks:99\n",
      "Fail\n"
     ]
    }
   ],
   "source": [
    "phy=int(input(\"Enter physics marks:\"))\n",
    "mat=int(input(\"Enter maths marks:\"))\n",
    "chem=int(input(\"Enter chem marks:\"))\n",
    "bio=int(input(\"Enter bio marks:\"))\n",
    "eng=int(input(\"Enter eng marks:\"))\n",
    "if phy or chem or mat or bio or eng <33:\n",
    "    print(\"Fail\")\n",
    "else:\n",
    "    sum=phy+mat+chem+eng+bio\n",
    "    per=(sum/500)*100\n",
    "    print(\"Percentage is:{}%\".format(per))\n",
    "\n",
    "    if per>=90:\n",
    "        print(\"Grade: A\")\n",
    "    elif per<90 and per>=80:\n",
    "        print(\"Grade: B\")  \n",
    "    elif per<80 and per>=70:\n",
    "        print(\"Grade: C\")  \n",
    "    elif per<70 and per>=60:\n",
    "        print(\"Grade: D\") \n",
    "    elif per<60 and per>=40:\n",
    "        print(\"Grade: E\") \n",
    "    else:\n",
    "        print(\"Fail\")\n",
    "    \n"
   ]
  },
  {
   "cell_type": "markdown",
   "metadata": {},
   "source": []
  }
 ],
 "metadata": {
  "kernelspec": {
   "display_name": "Python 3",
   "language": "python",
   "name": "python3"
  },
  "language_info": {
   "codemirror_mode": {
    "name": "ipython",
    "version": 3
   },
   "file_extension": ".py",
   "mimetype": "text/x-python",
   "name": "python",
   "nbconvert_exporter": "python",
   "pygments_lexer": "ipython3",
   "version": "3.6.4"
  }
 },
 "nbformat": 4,
 "nbformat_minor": 2
}
